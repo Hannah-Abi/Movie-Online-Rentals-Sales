{
 "cells": [
  {
   "cell_type": "code",
   "execution_count": 12,
   "id": "cedacb7d-8631-45f3-adb5-3330783e8a55",
   "metadata": {
    "tags": []
   },
   "outputs": [
    {
     "name": "stdout",
     "output_type": "stream",
     "text": [
      "Collecting ipython-sql\n",
      "  Downloading ipython_sql-0.5.0-py3-none-any.whl (20 kB)\n",
      "Collecting prettytable (from ipython-sql)\n",
      "  Downloading prettytable-3.9.0-py3-none-any.whl (27 kB)\n",
      "Requirement already satisfied: ipython in /opt/software/lib/python3.10/site-packages (from ipython-sql) (8.17.2)\n",
      "Requirement already satisfied: sqlalchemy>=2.0 in /opt/software/lib/python3.10/site-packages (from ipython-sql) (2.0.23)\n",
      "Collecting sqlparse (from ipython-sql)\n",
      "  Downloading sqlparse-0.4.4-py3-none-any.whl (41 kB)\n",
      "\u001b[2K     \u001b[90m━━━━━━━━━━━━━━━━━━━━━━━━━━━━━━━━━━━━━━━━\u001b[0m \u001b[32m41.2/41.2 kB\u001b[0m \u001b[31m12.1 MB/s\u001b[0m eta \u001b[36m0:00:00\u001b[0m\n",
      "\u001b[?25hRequirement already satisfied: six in /opt/software/lib/python3.10/site-packages (from ipython-sql) (1.16.0)\n",
      "Requirement already satisfied: ipython-genutils in /opt/software/lib/python3.10/site-packages (from ipython-sql) (0.2.0)\n",
      "Requirement already satisfied: typing-extensions>=4.2.0 in /opt/software/lib/python3.10/site-packages (from sqlalchemy>=2.0->ipython-sql) (4.8.0)\n",
      "Requirement already satisfied: greenlet!=0.4.17 in /opt/software/lib/python3.10/site-packages (from sqlalchemy>=2.0->ipython-sql) (3.0.1)\n",
      "Requirement already satisfied: decorator in /opt/software/lib/python3.10/site-packages (from ipython->ipython-sql) (5.1.1)\n",
      "Requirement already satisfied: jedi>=0.16 in /opt/software/lib/python3.10/site-packages (from ipython->ipython-sql) (0.19.1)\n",
      "Requirement already satisfied: matplotlib-inline in /opt/software/lib/python3.10/site-packages (from ipython->ipython-sql) (0.1.6)\n",
      "Requirement already satisfied: prompt-toolkit!=3.0.37,<3.1.0,>=3.0.30 in /opt/software/lib/python3.10/site-packages (from ipython->ipython-sql) (3.0.41)\n",
      "Requirement already satisfied: pygments>=2.4.0 in /opt/software/lib/python3.10/site-packages (from ipython->ipython-sql) (2.17.2)\n",
      "Requirement already satisfied: stack-data in /opt/software/lib/python3.10/site-packages (from ipython->ipython-sql) (0.6.2)\n",
      "Requirement already satisfied: traitlets>=5 in /opt/software/lib/python3.10/site-packages (from ipython->ipython-sql) (5.13.0)\n",
      "Requirement already satisfied: exceptiongroup in /opt/software/lib/python3.10/site-packages (from ipython->ipython-sql) (1.2.0)\n",
      "Requirement already satisfied: pexpect>4.3 in /opt/software/lib/python3.10/site-packages (from ipython->ipython-sql) (4.8.0)\n",
      "Requirement already satisfied: wcwidth in /opt/software/lib/python3.10/site-packages (from prettytable->ipython-sql) (0.2.12)\n",
      "Requirement already satisfied: parso<0.9.0,>=0.8.3 in /opt/software/lib/python3.10/site-packages (from jedi>=0.16->ipython->ipython-sql) (0.8.3)\n",
      "Requirement already satisfied: ptyprocess>=0.5 in /opt/software/lib/python3.10/site-packages (from pexpect>4.3->ipython->ipython-sql) (0.7.0)\n",
      "Requirement already satisfied: executing>=1.2.0 in /opt/software/lib/python3.10/site-packages (from stack-data->ipython->ipython-sql) (2.0.1)\n",
      "Requirement already satisfied: asttokens>=2.1.0 in /opt/software/lib/python3.10/site-packages (from stack-data->ipython->ipython-sql) (2.4.1)\n",
      "Requirement already satisfied: pure-eval in /opt/software/lib/python3.10/site-packages (from stack-data->ipython->ipython-sql) (0.2.2)\n",
      "Installing collected packages: sqlparse, prettytable, ipython-sql\n",
      "Successfully installed ipython-sql-0.5.0 prettytable-3.9.0 sqlparse-0.4.4\n"
     ]
    }
   ],
   "source": [
    "# install a SQL kernel.\n",
    "!pip install ipython-sql"
   ]
  },
  {
   "cell_type": "code",
   "execution_count": 13,
   "id": "b95cf09a-0241-494b-8b1b-618a2cd54de1",
   "metadata": {
    "tags": []
   },
   "outputs": [],
   "source": [
    "# Load SQL extension\n",
    "%load_ext sql"
   ]
  },
  {
   "cell_type": "markdown",
   "id": "0fa707cd-1e18-43cc-9bbf-e807c17fc295",
   "metadata": {},
   "source": [
    "### 1. Create database engine and load into SQLite database table"
   ]
  },
  {
   "cell_type": "code",
   "execution_count": 14,
   "id": "783bcd43-58db-4e42-b3b5-3dd4cb973a16",
   "metadata": {
    "tags": []
   },
   "outputs": [],
   "source": [
    "import pandas as pd\n",
    "from sqlalchemy import create_engine\n",
    "\n",
    "# List of CSV files to process\n",
    "csv_files = ['actors.csv', 'customers.csv', 'actsin.csv', 'renting.csv', 'movies.csv']\n",
    "\n",
    "# Create an SQLite database engine\n",
    "engine = create_engine('sqlite:///movies_data.db', echo=False)\n",
    "\n",
    "# Iterate over the CSV files and load them into the database\n",
    "for csv_file in csv_files:\n",
    "    # Read the CSV file into a DataFrame\n",
    "    df = pd.read_csv(\"Dataset/\" + csv_file)\n",
    "    \n",
    "    # Extract the table name from the file name (removing the extension)\n",
    "    table_name = csv_file.split('.')[0]\n",
    "    \n",
    "    # Write the DataFrame to an SQLite database table\n",
    "    df.to_sql(table_name, con=engine, index=False, if_exists='replace')\n",
    "\n"
   ]
  },
  {
   "cell_type": "code",
   "execution_count": 15,
   "id": "c17e2960-79dd-4658-88a4-f7fe4779d2c0",
   "metadata": {
    "tags": []
   },
   "outputs": [
    {
     "name": "stdout",
     "output_type": "stream",
     "text": [
      "Done.\n"
     ]
    },
    {
     "data": {
      "text/html": [
       "<table>\n",
       "    <thead>\n",
       "        <tr>\n",
       "            <th>movie_id</th>\n",
       "            <th>title</th>\n",
       "            <th>genre</th>\n",
       "            <th>runtime</th>\n",
       "            <th>year_of_releas</th>\n",
       "            <th>renting_price</th>\n",
       "        </tr>\n",
       "    </thead>\n",
       "    <tbody>\n",
       "        <tr>\n",
       "            <td>1</td>\n",
       "            <td>One Night at McCool&#x27;s</td>\n",
       "            <td>Comedy</td>\n",
       "            <td>93</td>\n",
       "            <td>2001</td>\n",
       "            <td>2.09</td>\n",
       "        </tr>\n",
       "        <tr>\n",
       "            <td>2</td>\n",
       "            <td>Swordfish</td>\n",
       "            <td>Drama</td>\n",
       "            <td>99</td>\n",
       "            <td>2001</td>\n",
       "            <td>2.19</td>\n",
       "        </tr>\n",
       "        <tr>\n",
       "            <td>3</td>\n",
       "            <td>What Women Want</td>\n",
       "            <td>Comedy</td>\n",
       "            <td>127</td>\n",
       "            <td>2001</td>\n",
       "            <td>2.59</td>\n",
       "        </tr>\n",
       "        <tr>\n",
       "            <td>4</td>\n",
       "            <td>Training Day</td>\n",
       "            <td>Drama</td>\n",
       "            <td>122</td>\n",
       "            <td>2001</td>\n",
       "            <td>1.79</td>\n",
       "        </tr>\n",
       "        <tr>\n",
       "            <td>5</td>\n",
       "            <td>The Fellowship of the Ring</td>\n",
       "            <td>Science Fiction &amp; Fantasy</td>\n",
       "            <td>178</td>\n",
       "            <td>2001</td>\n",
       "            <td>2.59</td>\n",
       "        </tr>\n",
       "    </tbody>\n",
       "</table>"
      ],
      "text/plain": [
       "[(1, \"One Night at McCool's\", 'Comedy', 93, 2001, 2.09),\n",
       " (2, 'Swordfish', 'Drama', 99, 2001, 2.19),\n",
       " (3, 'What Women Want', 'Comedy', 127, 2001, 2.59),\n",
       " (4, 'Training Day', 'Drama', 122, 2001, 1.79),\n",
       " (5, 'The Fellowship of the Ring', 'Science Fiction & Fantasy', 178, 2001, 2.59)]"
      ]
     },
     "execution_count": 15,
     "metadata": {},
     "output_type": "execute_result"
    }
   ],
   "source": [
    "%%sql sqlite:///movies_data.db\n",
    "\n",
    "-- Example SQL query\n",
    "SELECT * FROM movies LIMIT 5;"
   ]
  },
  {
   "cell_type": "markdown",
   "id": "5045713a-2499-4acf-8609-c659ecc3256f",
   "metadata": {},
   "source": [
    "## 2. Insight into Customers Preferences"
   ]
  },
  {
   "cell_type": "markdown",
   "id": "bf787e26-f864-4a56-9de7-3b162d852596",
   "metadata": {},
   "source": [
    "#### Average rating per customer"
   ]
  },
  {
   "cell_type": "code",
   "execution_count": 31,
   "id": "33c5e778-48e4-44a6-8e6c-cc67be3cbb90",
   "metadata": {
    "tags": []
   },
   "outputs": [
    {
     "name": "stdout",
     "output_type": "stream",
     "text": [
      " * sqlite:///movies_data.db\n",
      "Done.\n"
     ]
    },
    {
     "data": {
      "text/html": [
       "<table>\n",
       "    <thead>\n",
       "        <tr>\n",
       "            <th>customer_id</th>\n",
       "            <th>round(avg(rating),2)</th>\n",
       "            <th>count(rating)</th>\n",
       "            <th>count(*)  -- Report the number of movie rentals per customer</th>\n",
       "        </tr>\n",
       "    </thead>\n",
       "    <tbody>\n",
       "        <tr>\n",
       "            <td>104</td>\n",
       "            <td>6.25</td>\n",
       "            <td>4</td>\n",
       "            <td>8</td>\n",
       "        </tr>\n",
       "        <tr>\n",
       "            <td>28</td>\n",
       "            <td>6.71</td>\n",
       "            <td>7</td>\n",
       "            <td>11</td>\n",
       "        </tr>\n",
       "        <tr>\n",
       "            <td>111</td>\n",
       "            <td>7.0</td>\n",
       "            <td>3</td>\n",
       "            <td>10</td>\n",
       "        </tr>\n",
       "        <tr>\n",
       "            <td>113</td>\n",
       "            <td>7.0</td>\n",
       "            <td>7</td>\n",
       "            <td>15</td>\n",
       "        </tr>\n",
       "        <tr>\n",
       "            <td>25</td>\n",
       "            <td>7.2</td>\n",
       "            <td>5</td>\n",
       "            <td>10</td>\n",
       "        </tr>\n",
       "    </tbody>\n",
       "</table>"
      ],
      "text/plain": [
       "[(104, 6.25, 4, 8),\n",
       " (28, 6.71, 7, 11),\n",
       " (111, 7.0, 3, 10),\n",
       " (113, 7.0, 7, 15),\n",
       " (25, 7.2, 5, 10)]"
      ]
     },
     "execution_count": 31,
     "metadata": {},
     "output_type": "execute_result"
    }
   ],
   "source": [
    "%%sql \n",
    "SELECT customer_id, -- Report the customer_id\n",
    "      round(avg(rating),2),  -- Report the average rating per customer\n",
    "      count(rating),  -- Report the number of ratings per customer\n",
    "      count(*)  -- Report the number of movie rentals per customer\n",
    "FROM renting\n",
    "GROUP BY customer_id\n",
    "HAVING count(*) > 7 -- Select only customers with more than 7 movie rentals\n",
    "ORDER BY avg(rating) ASC LIMIT 5; -- Order by the average rating in ascending order"
   ]
  },
  {
   "cell_type": "markdown",
   "id": "205fbc4e-2b15-4e0b-aa4c-6f4ac7269658",
   "metadata": {},
   "source": [
    "#### Sales KPIs in 2018 - Revenues, rentals, and active customers"
   ]
  },
  {
   "cell_type": "code",
   "execution_count": 17,
   "id": "fa0241ca-43c8-493f-b142-327b8542b5e0",
   "metadata": {
    "tags": []
   },
   "outputs": [
    {
     "name": "stdout",
     "output_type": "stream",
     "text": [
      " * sqlite:///movies_data.db\n",
      "Done.\n"
     ]
    },
    {
     "data": {
      "text/html": [
       "<table>\n",
       "    <thead>\n",
       "        <tr>\n",
       "            <th>revenue</th>\n",
       "            <th>num_of_renting</th>\n",
       "            <th>num_of_customers</th>\n",
       "        </tr>\n",
       "    </thead>\n",
       "    <tbody>\n",
       "        <tr>\n",
       "            <td>658.02</td>\n",
       "            <td>298</td>\n",
       "            <td>93</td>\n",
       "        </tr>\n",
       "    </tbody>\n",
       "</table>"
      ],
      "text/plain": [
       "[(658.02, 298, 93)]"
      ]
     },
     "execution_count": 17,
     "metadata": {},
     "output_type": "execute_result"
    }
   ],
   "source": [
    "%%sql \n",
    "SELECT \n",
    "    SUM(m.renting_price) as revenue, \n",
    "    COUNT(*) as num_of_renting, \n",
    "    COUNT(DISTINCT r.customer_id) as num_of_customers\n",
    "FROM renting AS r\n",
    "LEFT JOIN movies AS m\n",
    "ON r.movie_id = m.movie_id\n",
    "-- Only look at movie rentals in 2018\n",
    "WHERE date_renting BETWEEN '2018-01-01' AND '2018-12-31' ;"
   ]
  },
  {
   "cell_type": "markdown",
   "id": "b0184948-7ebe-43c7-b812-d39691301489",
   "metadata": {},
   "source": [
    "#### Income generated by each movie"
   ]
  },
  {
   "cell_type": "code",
   "execution_count": 18,
   "id": "5c673e1c-32d1-43b2-a829-8946204c9d6b",
   "metadata": {
    "tags": []
   },
   "outputs": [
    {
     "name": "stdout",
     "output_type": "stream",
     "text": [
      " * sqlite:///movies_data.db\n",
      "Done.\n"
     ]
    },
    {
     "data": {
      "text/html": [
       "<table>\n",
       "    <thead>\n",
       "        <tr>\n",
       "            <th>movie_name</th>\n",
       "            <th>income_movie</th>\n",
       "        </tr>\n",
       "    </thead>\n",
       "    <tbody>\n",
       "        <tr>\n",
       "            <td>Bridget Jones - The Edge of Reason</td>\n",
       "            <td>37.57</td>\n",
       "        </tr>\n",
       "        <tr>\n",
       "            <td>Fair Game</td>\n",
       "            <td>34.68</td>\n",
       "        </tr>\n",
       "        <tr>\n",
       "            <td>The Kingdom</td>\n",
       "            <td>31.35</td>\n",
       "        </tr>\n",
       "        <tr>\n",
       "            <td>Two for the Money</td>\n",
       "            <td>30.69</td>\n",
       "        </tr>\n",
       "        <tr>\n",
       "            <td>Simone</td>\n",
       "            <td>29.59</td>\n",
       "        </tr>\n",
       "        <tr>\n",
       "            <td>Django Unchained</td>\n",
       "            <td>29.59</td>\n",
       "        </tr>\n",
       "        <tr>\n",
       "            <td>What Women Want</td>\n",
       "            <td>28.49</td>\n",
       "        </tr>\n",
       "        <tr>\n",
       "            <td>Monster</td>\n",
       "            <td>27.17</td>\n",
       "        </tr>\n",
       "        <tr>\n",
       "            <td>The Two Towers</td>\n",
       "            <td>26.29</td>\n",
       "        </tr>\n",
       "        <tr>\n",
       "            <td>A Good Woman</td>\n",
       "            <td>26.01</td>\n",
       "        </tr>\n",
       "    </tbody>\n",
       "</table>"
      ],
      "text/plain": [
       "[('Bridget Jones - The Edge of Reason', 37.57),\n",
       " ('Fair Game', 34.68),\n",
       " ('The Kingdom', 31.35),\n",
       " ('Two for the Money', 30.69),\n",
       " ('Simone', 29.59),\n",
       " ('Django Unchained', 29.59),\n",
       " ('What Women Want', 28.49),\n",
       " ('Monster', 27.17),\n",
       " ('The Two Towers', 26.29),\n",
       " ('A Good Woman', 26.01)]"
      ]
     },
     "execution_count": 18,
     "metadata": {},
     "output_type": "execute_result"
    }
   ],
   "source": [
    "%%sql\n",
    "SELECT title AS movie_name, -- Report the income from movie rentals for each movie \n",
    "       round(sum(renting_price),2) AS income_movie\n",
    "FROM\n",
    "       (SELECT m.title,  \n",
    "               m.renting_price\n",
    "       FROM renting AS r\n",
    "       LEFT JOIN movies AS m\n",
    "       ON r.movie_id=m.movie_id) AS rm\n",
    "GROUP BY rm.title\n",
    "ORDER BY income_movie DESC LIMIT 10; -- Order the result by decreasing income"
   ]
  },
  {
   "cell_type": "markdown",
   "id": "124fd48e-08ff-4f16-a5d9-762e3d6aeaf8",
   "metadata": {},
   "source": [
    "#### Favourite movies/actors for a group of customers\n",
    "- **Questions 1**: Which is the favorite mvie on MovieNow for all customers born in the 70?\n",
    "- **Question 2**: What is the favourite actors from Spain?"
   ]
  },
  {
   "cell_type": "code",
   "execution_count": 27,
   "id": "92ec5ae9-3431-400c-a8ef-ee99d3771cad",
   "metadata": {
    "tags": []
   },
   "outputs": [
    {
     "name": "stdout",
     "output_type": "stream",
     "text": [
      " * sqlite:///movies_data.db\n",
      "Done.\n"
     ]
    },
    {
     "data": {
      "text/html": [
       "<table>\n",
       "    <thead>\n",
       "        <tr>\n",
       "            <th>movie_name</th>\n",
       "            <th>num_view</th>\n",
       "            <th>AVG_rating</th>\n",
       "        </tr>\n",
       "    </thead>\n",
       "    <tbody>\n",
       "        <tr>\n",
       "            <td>The Fighter</td>\n",
       "            <td>4</td>\n",
       "            <td>10.0</td>\n",
       "        </tr>\n",
       "        <tr>\n",
       "            <td>The Fellowship of the Ring</td>\n",
       "            <td>2</td>\n",
       "            <td>10.0</td>\n",
       "        </tr>\n",
       "        <tr>\n",
       "            <td>One Night at McCool&#x27;s</td>\n",
       "            <td>2</td>\n",
       "            <td>10.0</td>\n",
       "        </tr>\n",
       "        <tr>\n",
       "            <td>No Country for Old Men</td>\n",
       "            <td>3</td>\n",
       "            <td>10.0</td>\n",
       "        </tr>\n",
       "        <tr>\n",
       "            <td>I&#x27;m Not There</td>\n",
       "            <td>2</td>\n",
       "            <td>10.0</td>\n",
       "        </tr>\n",
       "        <tr>\n",
       "            <td>Django Unchained</td>\n",
       "            <td>4</td>\n",
       "            <td>10.0</td>\n",
       "        </tr>\n",
       "        <tr>\n",
       "            <td>Secondhand Lions</td>\n",
       "            <td>4</td>\n",
       "            <td>9.67</td>\n",
       "        </tr>\n",
       "        <tr>\n",
       "            <td>Winter&#x27;s Bone</td>\n",
       "            <td>2</td>\n",
       "            <td>9.5</td>\n",
       "        </tr>\n",
       "        <tr>\n",
       "            <td>Fool&#x27;s Gold</td>\n",
       "            <td>4</td>\n",
       "            <td>9.33</td>\n",
       "        </tr>\n",
       "        <tr>\n",
       "            <td>The Help</td>\n",
       "            <td>3</td>\n",
       "            <td>9.0</td>\n",
       "        </tr>\n",
       "    </tbody>\n",
       "</table>"
      ],
      "text/plain": [
       "[('The Fighter', 4, 10.0),\n",
       " ('The Fellowship of the Ring', 2, 10.0),\n",
       " (\"One Night at McCool's\", 2, 10.0),\n",
       " ('No Country for Old Men', 3, 10.0),\n",
       " (\"I'm Not There\", 2, 10.0),\n",
       " ('Django Unchained', 4, 10.0),\n",
       " ('Secondhand Lions', 4, 9.67),\n",
       " (\"Winter's Bone\", 2, 9.5),\n",
       " (\"Fool's Gold\", 4, 9.33),\n",
       " ('The Help', 3, 9.0)]"
      ]
     },
     "execution_count": 27,
     "metadata": {},
     "output_type": "execute_result"
    }
   ],
   "source": [
    "%%sql\n",
    "SELECT m.title as movie_name, \n",
    "COUNT(*) AS num_view, -- Report number of views per movie\n",
    "round(AVG(r.rating),2) as AVG_rating -- Report the average rating per movie\n",
    "FROM renting AS r\n",
    "LEFT JOIN customers AS c\n",
    "ON c.customer_id = r.customer_id\n",
    "LEFT JOIN movies AS m\n",
    "ON m.movie_id = r.movie_id\n",
    "WHERE c.date_of_birth BETWEEN '1970-01-01' AND '1979-12-31'\n",
    "GROUP BY m.title\n",
    "HAVING COUNT(*) > 1 -- Remove movies with only one rental\n",
    "ORDER BY AVG(r.rating) DESC LIMIT 10; -- Order with highest rating first"
   ]
  },
  {
   "cell_type": "code",
   "execution_count": 36,
   "id": "4f5e9996-de03-4936-8d1e-46553f5955ac",
   "metadata": {},
   "outputs": [
    {
     "name": "stdout",
     "output_type": "stream",
     "text": [
      " * sqlite:///movies_data.db\n",
      "Done.\n"
     ]
    },
    {
     "data": {
      "text/html": [
       "<table>\n",
       "    <thead>\n",
       "        <tr>\n",
       "            <th>name</th>\n",
       "            <th>gender</th>\n",
       "            <th>number_views</th>\n",
       "            <th>avg_rating</th>\n",
       "        </tr>\n",
       "    </thead>\n",
       "    <tbody>\n",
       "        <tr>\n",
       "            <td>None</td>\n",
       "            <td>male</td>\n",
       "            <td>108</td>\n",
       "            <td>7.71875</td>\n",
       "        </tr>\n",
       "        <tr>\n",
       "            <td>None</td>\n",
       "            <td>female</td>\n",
       "            <td>185</td>\n",
       "            <td>7.651685393258427</td>\n",
       "        </tr>\n",
       "    </tbody>\n",
       "</table>"
      ],
      "text/plain": [
       "[(None, 'male', 108, 7.71875), (None, 'female', 185, 7.651685393258427)]"
      ]
     },
     "execution_count": 36,
     "metadata": {},
     "output_type": "execute_result"
    }
   ],
   "source": [
    "%%sql\n",
    "SELECT a.name,  c.gender,\n",
    "       COUNT(*) AS number_views, \n",
    "       AVG(r.rating) AS avg_rating\n",
    "FROM renting as r\n",
    "LEFT JOIN customers AS c -- Augment table renting with information about customers \n",
    "ON r.customer_id = c.customer_id\n",
    "LEFT JOIN actsin as ai -- Augment the table renting with the table actsin\n",
    "ON r.movie_id = ai.movie_id\n",
    "LEFT JOIN actors as a -- Augment table renting with information about actors\n",
    "ON ai.actor_id = a.actor_id\n",
    "WHERE c.country = 'Spain' -- Select only customers from Spain\n",
    "GROUP BY a.name, c.gender -- For each actor, separately for male and female customers\n",
    "HAVING AVG(r.rating) IS NOT NULL \n",
    "  AND COUNT(*) > 5 -- Report only actors with more than 5 movie rentals\n",
    "ORDER BY avg_rating DESC, number_views DESC;"
   ]
  },
  {
   "cell_type": "markdown",
   "id": "4552ada0-d615-473f-beb8-e4e50e3634e6",
   "metadata": {},
   "source": [
    "#### KPIs per country\n",
    "**Question** -  Sales KPIs - Revenues, rentals, and active customers for each country"
   ]
  },
  {
   "cell_type": "code",
   "execution_count": 39,
   "id": "b311a26b-460c-4bdb-8902-1c71e37d3c1b",
   "metadata": {
    "tags": []
   },
   "outputs": [
    {
     "name": "stdout",
     "output_type": "stream",
     "text": [
      " * sqlite:///movies_data.db\n",
      "Done.\n"
     ]
    },
    {
     "data": {
      "text/html": [
       "<table>\n",
       "    <thead>\n",
       "        <tr>\n",
       "            <th>country</th>\n",
       "            <th>number_renting</th>\n",
       "            <th>average_rating</th>\n",
       "            <th>revenue</th>\n",
       "        </tr>\n",
       "    </thead>\n",
       "    <tbody>\n",
       "        <tr>\n",
       "            <td>None</td>\n",
       "            <td>1</td>\n",
       "            <td>10.0</td>\n",
       "            <td>1.79</td>\n",
       "        </tr>\n",
       "        <tr>\n",
       "            <td>Austria</td>\n",
       "            <td>4</td>\n",
       "            <td>6.0</td>\n",
       "            <td>8.16</td>\n",
       "        </tr>\n",
       "        <tr>\n",
       "            <td>Belgium</td>\n",
       "            <td>7</td>\n",
       "            <td>9.0</td>\n",
       "            <td>13.13</td>\n",
       "        </tr>\n",
       "        <tr>\n",
       "            <td>Denmark</td>\n",
       "            <td>7</td>\n",
       "            <td>7.71</td>\n",
       "            <td>14.63</td>\n",
       "        </tr>\n",
       "        <tr>\n",
       "            <td>France</td>\n",
       "            <td>23</td>\n",
       "            <td>7.53</td>\n",
       "            <td>51.07</td>\n",
       "        </tr>\n",
       "        <tr>\n",
       "            <td>Great Britan</td>\n",
       "            <td>9</td>\n",
       "            <td>7.2</td>\n",
       "            <td>17.91</td>\n",
       "        </tr>\n",
       "        <tr>\n",
       "            <td>Hungary</td>\n",
       "            <td>11</td>\n",
       "            <td>7.17</td>\n",
       "            <td>25.89</td>\n",
       "        </tr>\n",
       "        <tr>\n",
       "            <td>Italy</td>\n",
       "            <td>30</td>\n",
       "            <td>8.24</td>\n",
       "            <td>69.9</td>\n",
       "        </tr>\n",
       "        <tr>\n",
       "            <td>Poland</td>\n",
       "            <td>21</td>\n",
       "            <td>8.13</td>\n",
       "            <td>49.29</td>\n",
       "        </tr>\n",
       "        <tr>\n",
       "            <td>Slovenia</td>\n",
       "            <td>14</td>\n",
       "            <td>8.0</td>\n",
       "            <td>30.26</td>\n",
       "        </tr>\n",
       "        <tr>\n",
       "            <td>Spain</td>\n",
       "            <td>26</td>\n",
       "            <td>8.08</td>\n",
       "            <td>57.94</td>\n",
       "        </tr>\n",
       "        <tr>\n",
       "            <td>USA</td>\n",
       "            <td>6</td>\n",
       "            <td>9.0</td>\n",
       "            <td>14.54</td>\n",
       "        </tr>\n",
       "    </tbody>\n",
       "</table>"
      ],
      "text/plain": [
       "[(None, 1, 10.0, 1.79),\n",
       " ('Austria', 4, 6.0, 8.16),\n",
       " ('Belgium', 7, 9.0, 13.13),\n",
       " ('Denmark', 7, 7.71, 14.63),\n",
       " ('France', 23, 7.53, 51.07),\n",
       " ('Great Britan', 9, 7.2, 17.91),\n",
       " ('Hungary', 11, 7.17, 25.89),\n",
       " ('Italy', 30, 8.24, 69.9),\n",
       " ('Poland', 21, 8.13, 49.29),\n",
       " ('Slovenia', 14, 8.0, 30.26),\n",
       " ('Spain', 26, 8.08, 57.94),\n",
       " ('USA', 6, 9.0, 14.54)]"
      ]
     },
     "execution_count": 39,
     "metadata": {},
     "output_type": "execute_result"
    }
   ],
   "source": [
    "%%sql\n",
    "SELECT \n",
    "    c.country,                    -- For each country report\n",
    "    COUNT(r.movie_id) AS number_renting, -- The number of movie rentals\n",
    "    round(AVG(r.rating),2) AS average_rating, -- The average rating\n",
    "    round(SUM(m.renting_price),4) AS revenue         -- The revenue from movie rentals\n",
    "FROM renting AS r -- Augment the table renting with information about customers\n",
    "LEFT JOIN customers AS c\n",
    "ON c.customer_id = r.customer_id\n",
    "LEFT JOIN movies AS m -- Augment the table renting with information about movies\n",
    "ON r.movie_id = m.movie_id\n",
    "WHERE date_renting >= '2019-01-01'  -- Select only records about rentals since the beginning of 2019\n",
    "GROUP BY c.country;"
   ]
  },
  {
   "cell_type": "code",
   "execution_count": null,
   "id": "9efe23ad-c5dd-4ea4-8fa1-05c56b94ed3b",
   "metadata": {},
   "outputs": [],
   "source": []
  }
 ],
 "metadata": {
  "kernelspec": {
   "display_name": "Python 3",
   "language": "python",
   "name": "python3"
  },
  "language_info": {
   "codemirror_mode": {
    "name": "ipython",
    "version": 3
   },
   "file_extension": ".py",
   "mimetype": "text/x-python",
   "name": "python",
   "nbconvert_exporter": "python",
   "pygments_lexer": "ipython3",
   "version": "3.10.12"
  }
 },
 "nbformat": 4,
 "nbformat_minor": 5
}
