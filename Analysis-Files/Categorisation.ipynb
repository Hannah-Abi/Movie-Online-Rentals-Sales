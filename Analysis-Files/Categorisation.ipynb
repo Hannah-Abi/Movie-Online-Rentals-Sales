{
 "cells": [
  {
   "cell_type": "code",
   "execution_count": 1,
   "id": "2988541f-8ac9-484c-ad1c-cbec3fb56608",
   "metadata": {
    "tags": []
   },
   "outputs": [],
   "source": [
    "# Load SQL extension\n",
    "%load_ext sql"
   ]
  },
  {
   "cell_type": "code",
   "execution_count": 32,
   "id": "6283ea85-aac2-49ed-9fc2-dc6b7a94b625",
   "metadata": {
    "tags": []
   },
   "outputs": [
    {
     "name": "stdout",
     "output_type": "stream",
     "text": [
      "Done.\n"
     ]
    },
    {
     "data": {
      "text/html": [
       "<table>\n",
       "    <thead>\n",
       "        <tr>\n",
       "            <th>COUNT(*)</th>\n",
       "        </tr>\n",
       "    </thead>\n",
       "    <tbody>\n",
       "        <tr>\n",
       "            <td>145</td>\n",
       "        </tr>\n",
       "    </tbody>\n",
       "</table>"
      ],
      "text/plain": [
       "[(145,)]"
      ]
     },
     "execution_count": 32,
     "metadata": {},
     "output_type": "execute_result"
    }
   ],
   "source": [
    "%%sql sqlite:///movies_data.db\n",
    "\n",
    "-- Example SQL query\n",
    "SELECT COUNT(*) FROM actors;"
   ]
  },
  {
   "cell_type": "markdown",
   "id": "526c3d0e-fd25-4b14-a638-de3c0a4295ad",
   "metadata": {},
   "source": [
    "### Movies and Customers\n",
    "1. **What are the often rented movies?**\n",
    "2. **What are the frequent customers**\n",
    "3. **Report movies with rating above avergage**\n",
    "4. **Who are ths customers who gave low rating?**"
   ]
  },
  {
   "cell_type": "markdown",
   "id": "1f867aff-d937-42eb-b678-82c673c372ce",
   "metadata": {},
   "source": [
    "#### Often reneted movies"
   ]
  },
  {
   "cell_type": "code",
   "execution_count": 3,
   "id": "3fe1a693-eaf2-41ef-bc7e-d2d05ba6b83d",
   "metadata": {
    "tags": []
   },
   "outputs": [
    {
     "name": "stdout",
     "output_type": "stream",
     "text": [
      " * sqlite:///movies_data.db\n",
      "Done.\n"
     ]
    },
    {
     "data": {
      "text/html": [
       "<table>\n",
       "    <thead>\n",
       "        <tr>\n",
       "            <th>movie_id</th>\n",
       "            <th>title</th>\n",
       "            <th>genre</th>\n",
       "            <th>runtime</th>\n",
       "            <th>year_of_releas</th>\n",
       "            <th>renting_price</th>\n",
       "        </tr>\n",
       "    </thead>\n",
       "    <tbody>\n",
       "        <tr>\n",
       "            <td>1</td>\n",
       "            <td>One Night at McCool&#x27;s</td>\n",
       "            <td>Comedy</td>\n",
       "            <td>93</td>\n",
       "            <td>2001</td>\n",
       "            <td>2.09</td>\n",
       "        </tr>\n",
       "        <tr>\n",
       "            <td>2</td>\n",
       "            <td>Swordfish</td>\n",
       "            <td>Drama</td>\n",
       "            <td>99</td>\n",
       "            <td>2001</td>\n",
       "            <td>2.19</td>\n",
       "        </tr>\n",
       "        <tr>\n",
       "            <td>3</td>\n",
       "            <td>What Women Want</td>\n",
       "            <td>Comedy</td>\n",
       "            <td>127</td>\n",
       "            <td>2001</td>\n",
       "            <td>2.59</td>\n",
       "        </tr>\n",
       "        <tr>\n",
       "            <td>4</td>\n",
       "            <td>Training Day</td>\n",
       "            <td>Drama</td>\n",
       "            <td>122</td>\n",
       "            <td>2001</td>\n",
       "            <td>1.79</td>\n",
       "        </tr>\n",
       "        <tr>\n",
       "            <td>5</td>\n",
       "            <td>The Fellowship of the Ring</td>\n",
       "            <td>Science Fiction &amp; Fantasy</td>\n",
       "            <td>178</td>\n",
       "            <td>2001</td>\n",
       "            <td>2.59</td>\n",
       "        </tr>\n",
       "    </tbody>\n",
       "</table>"
      ],
      "text/plain": [
       "[(1, \"One Night at McCool's\", 'Comedy', 93, 2001, 2.09),\n",
       " (2, 'Swordfish', 'Drama', 99, 2001, 2.19),\n",
       " (3, 'What Women Want', 'Comedy', 127, 2001, 2.59),\n",
       " (4, 'Training Day', 'Drama', 122, 2001, 1.79),\n",
       " (5, 'The Fellowship of the Ring', 'Science Fiction & Fantasy', 178, 2001, 2.59)]"
      ]
     },
     "execution_count": 3,
     "metadata": {},
     "output_type": "execute_result"
    }
   ],
   "source": [
    "%%sql\n",
    "SELECT *\n",
    "FROM movies\n",
    "WhERE movies.movie_id IN  -- Select movie IDs from the inner query\n",
    "    (SELECT movie_id\n",
    "    FROM renting\n",
    "    GROUP BY movie_id\n",
    "    HAVING COUNT(*) > 5)\n",
    "LIMIT 5;"
   ]
  },
  {
   "cell_type": "markdown",
   "id": "aa33918b-49e8-467d-8c72-9941297d8e93",
   "metadata": {},
   "source": [
    "#### Frequent customers "
   ]
  },
  {
   "cell_type": "code",
   "execution_count": 19,
   "id": "8205569f-c56e-4640-86da-516f6b0773f1",
   "metadata": {
    "tags": []
   },
   "outputs": [
    {
     "name": "stdout",
     "output_type": "stream",
     "text": [
      " * sqlite:///movies_data.db\n",
      "Done.\n"
     ]
    },
    {
     "data": {
      "text/html": [
       "<table>\n",
       "    <thead>\n",
       "        <tr>\n",
       "            <th>customer_id</th>\n",
       "            <th>name</th>\n",
       "            <th>country</th>\n",
       "            <th>gender</th>\n",
       "            <th>date_of_birth</th>\n",
       "            <th>date_account_start</th>\n",
       "        </tr>\n",
       "    </thead>\n",
       "    <tbody>\n",
       "        <tr>\n",
       "            <td>21</td>\n",
       "            <td>Avelaine Corbeil</td>\n",
       "            <td>France</td>\n",
       "            <td>female</td>\n",
       "            <td>1986-03-17T00:00:00.000Z</td>\n",
       "            <td>2017-06-11T00:00:00.000Z</td>\n",
       "        </tr>\n",
       "        <tr>\n",
       "            <td>28</td>\n",
       "            <td>Sidney Généreux</td>\n",
       "            <td>France</td>\n",
       "            <td>male</td>\n",
       "            <td>1980-12-01T00:00:00.000Z</td>\n",
       "            <td>2017-02-04T00:00:00.000Z</td>\n",
       "        </tr>\n",
       "        <tr>\n",
       "            <td>49</td>\n",
       "            <td>Havasy Kristof</td>\n",
       "            <td>Hungary</td>\n",
       "            <td>male</td>\n",
       "            <td>1998-06-13T00:00:00.000Z</td>\n",
       "            <td>2017-01-18T00:00:00.000Z</td>\n",
       "        </tr>\n",
       "        <tr>\n",
       "            <td>92</td>\n",
       "            <td>Honorata Nowak</td>\n",
       "            <td>Poland</td>\n",
       "            <td>female</td>\n",
       "            <td>1986-05-02T00:00:00.000Z</td>\n",
       "            <td>2017-09-21T00:00:00.000Z</td>\n",
       "        </tr>\n",
       "        <tr>\n",
       "            <td>113</td>\n",
       "            <td>Lucy Centeno Barrios</td>\n",
       "            <td>Spain</td>\n",
       "            <td>female</td>\n",
       "            <td>1970-11-03T00:00:00.000Z</td>\n",
       "            <td>2017-06-13T00:00:00.000Z</td>\n",
       "        </tr>\n",
       "        <tr>\n",
       "            <td>114</td>\n",
       "            <td>Canela Gaona Lozano</td>\n",
       "            <td>Spain</td>\n",
       "            <td>female</td>\n",
       "            <td>1997-04-01T00:00:00.000Z</td>\n",
       "            <td>2017-02-14T00:00:00.000Z</td>\n",
       "        </tr>\n",
       "    </tbody>\n",
       "</table>"
      ],
      "text/plain": [
       "[(21, 'Avelaine Corbeil', 'France', 'female', '1986-03-17T00:00:00.000Z', '2017-06-11T00:00:00.000Z'),\n",
       " (28, 'Sidney Généreux', 'France', 'male', '1980-12-01T00:00:00.000Z', '2017-02-04T00:00:00.000Z'),\n",
       " (49, 'Havasy Kristof', 'Hungary', 'male', '1998-06-13T00:00:00.000Z', '2017-01-18T00:00:00.000Z'),\n",
       " (92, 'Honorata Nowak', 'Poland', 'female', '1986-05-02T00:00:00.000Z', '2017-09-21T00:00:00.000Z'),\n",
       " (113, 'Lucy Centeno Barrios', 'Spain', 'female', '1970-11-03T00:00:00.000Z', '2017-06-13T00:00:00.000Z'),\n",
       " (114, 'Canela Gaona Lozano', 'Spain', 'female', '1997-04-01T00:00:00.000Z', '2017-02-14T00:00:00.000Z')]"
      ]
     },
     "execution_count": 19,
     "metadata": {},
     "output_type": "execute_result"
    }
   ],
   "source": [
    "%%sql \n",
    "SELECT *\n",
    "FROM customers\n",
    "WHERE customer_id IN   -- Select all customers with more than 10 movie rentals\n",
    "    (SELECT customer_id\n",
    "    FROM renting\n",
    "    GROUP BY customer_id\n",
    "    HAVING COUNT(*) > 10);"
   ]
  },
  {
   "cell_type": "markdown",
   "id": "d2b01942-778c-475e-8816-f61b5a5434f1",
   "metadata": {},
   "source": [
    "#### Movies with rating above AVG ratings"
   ]
  },
  {
   "cell_type": "code",
   "execution_count": 29,
   "id": "4c475d52-364d-42ec-82d9-b11dee04eeb2",
   "metadata": {
    "tags": []
   },
   "outputs": [
    {
     "name": "stdout",
     "output_type": "stream",
     "text": [
      " * sqlite:///movies_data.db\n",
      "Done.\n"
     ]
    },
    {
     "data": {
      "text/html": [
       "<table>\n",
       "    <thead>\n",
       "        <tr>\n",
       "            <th>movie_name</th>\n",
       "        </tr>\n",
       "    </thead>\n",
       "    <tbody>\n",
       "        <tr>\n",
       "            <td>What Women Want</td>\n",
       "        </tr>\n",
       "        <tr>\n",
       "            <td>The Fellowship of the Ring</td>\n",
       "        </tr>\n",
       "        <tr>\n",
       "            <td>Harry Potter and the Philosopher&#x27;s Stone</td>\n",
       "        </tr>\n",
       "        <tr>\n",
       "            <td>The Royal Tenenbaums</td>\n",
       "        </tr>\n",
       "        <tr>\n",
       "            <td>Waking Up in Reno</td>\n",
       "        </tr>\n",
       "    </tbody>\n",
       "</table>"
      ],
      "text/plain": [
       "[('What Women Want',),\n",
       " ('The Fellowship of the Ring',),\n",
       " (\"Harry Potter and the Philosopher's Stone\",),\n",
       " ('The Royal Tenenbaums',),\n",
       " ('Waking Up in Reno',)]"
      ]
     },
     "execution_count": 29,
     "metadata": {},
     "output_type": "execute_result"
    }
   ],
   "source": [
    "%%sql\n",
    "SELECT m.title AS movie_name-- Report the movie titles of all movies with average rating higher than the total average\n",
    "FROM movies as m\n",
    "WHERE m.movie_id IN\n",
    "    (SELECT movie_id\n",
    "     FROM renting\n",
    "     GROUP BY movie_id\n",
    "     HAVING AVG(rating) > \n",
    "        (SELECT AVG(rating)\n",
    "         FROM renting))\n",
    "LIMIT 5;"
   ]
  },
  {
   "cell_type": "markdown",
   "id": "333ab35c-7040-45e7-9635-5520bea74d24",
   "metadata": {},
   "source": [
    "#### Customer who gave low ratings"
   ]
  },
  {
   "cell_type": "code",
   "execution_count": 30,
   "id": "4c467a11-d3e2-4204-85cd-a265789c7aca",
   "metadata": {
    "tags": []
   },
   "outputs": [
    {
     "name": "stdout",
     "output_type": "stream",
     "text": [
      " * sqlite:///movies_data.db\n",
      "Done.\n"
     ]
    },
    {
     "data": {
      "text/html": [
       "<table>\n",
       "    <thead>\n",
       "        <tr>\n",
       "            <th>customer_id</th>\n",
       "            <th>name</th>\n",
       "            <th>country</th>\n",
       "            <th>gender</th>\n",
       "            <th>date_of_birth</th>\n",
       "            <th>date_account_start</th>\n",
       "        </tr>\n",
       "    </thead>\n",
       "    <tbody>\n",
       "        <tr>\n",
       "            <td>28</td>\n",
       "            <td>Sidney Généreux</td>\n",
       "            <td>France</td>\n",
       "            <td>male</td>\n",
       "            <td>1980-12-01T00:00:00.000Z</td>\n",
       "            <td>2017-02-04T00:00:00.000Z</td>\n",
       "        </tr>\n",
       "        <tr>\n",
       "            <td>41</td>\n",
       "            <td>Zara Mitchell</td>\n",
       "            <td>Great Britan</td>\n",
       "            <td>female</td>\n",
       "            <td>1994-07-08T00:00:00.000Z</td>\n",
       "            <td>2017-06-12T00:00:00.000Z</td>\n",
       "        </tr>\n",
       "        <tr>\n",
       "            <td>86</td>\n",
       "            <td>Albin Jaworski</td>\n",
       "            <td>Poland</td>\n",
       "            <td>male</td>\n",
       "            <td>1984-05-01T00:00:00.000Z</td>\n",
       "            <td>2017-12-15T00:00:00.000Z</td>\n",
       "        </tr>\n",
       "        <tr>\n",
       "            <td>120</td>\n",
       "            <td>Robin J. Himes</td>\n",
       "            <td>USA</td>\n",
       "            <td>male</td>\n",
       "            <td>1988-11-30T00:00:00.000Z</td>\n",
       "            <td>2018-08-06T00:00:00.000Z</td>\n",
       "        </tr>\n",
       "    </tbody>\n",
       "</table>"
      ],
      "text/plain": [
       "[(28, 'Sidney Généreux', 'France', 'male', '1980-12-01T00:00:00.000Z', '2017-02-04T00:00:00.000Z'),\n",
       " (41, 'Zara Mitchell', 'Great Britan', 'female', '1994-07-08T00:00:00.000Z', '2017-06-12T00:00:00.000Z'),\n",
       " (86, 'Albin Jaworski', 'Poland', 'male', '1984-05-01T00:00:00.000Z', '2017-12-15T00:00:00.000Z'),\n",
       " (120, 'Robin J. Himes', 'USA', 'male', '1988-11-30T00:00:00.000Z', '2018-08-06T00:00:00.000Z')]"
      ]
     },
     "execution_count": 30,
     "metadata": {},
     "output_type": "execute_result"
    }
   ],
   "source": [
    "%%sql\n",
    "SELECT *\n",
    "FROM customers AS c\n",
    "WHERE 4 > -- Select all customers with a minimum rating smaller than 4 \n",
    "    (SELECT MIN(rating)\n",
    "    FROM renting AS r\n",
    "    WHERE r.customer_id = c.customer_id);"
   ]
  },
  {
   "cell_type": "markdown",
   "id": "3ec61054-5662-4d18-948a-17308c0610a2",
   "metadata": {},
   "source": [
    "#### Customers with at least one rating"
   ]
  },
  {
   "cell_type": "code",
   "execution_count": 40,
   "id": "20b7726b-c3a4-443f-96fc-b3338bdb1e2b",
   "metadata": {
    "tags": []
   },
   "outputs": [
    {
     "name": "stdout",
     "output_type": "stream",
     "text": [
      " * sqlite:///movies_data.db\n",
      "Done.\n"
     ]
    },
    {
     "data": {
      "text/html": [
       "<table>\n",
       "    <thead>\n",
       "        <tr>\n",
       "            <th>nationality</th>\n",
       "            <th>COUNT(*)</th>\n",
       "        </tr>\n",
       "    </thead>\n",
       "    <tbody>\n",
       "        <tr>\n",
       "            <td>British</td>\n",
       "            <td>3</td>\n",
       "        </tr>\n",
       "        <tr>\n",
       "            <td>Canada</td>\n",
       "            <td>1</td>\n",
       "        </tr>\n",
       "        <tr>\n",
       "            <td>Northern Ireland</td>\n",
       "            <td>1</td>\n",
       "        </tr>\n",
       "        <tr>\n",
       "            <td>South Africa</td>\n",
       "            <td>1</td>\n",
       "        </tr>\n",
       "        <tr>\n",
       "            <td>USA</td>\n",
       "            <td>22</td>\n",
       "        </tr>\n",
       "    </tbody>\n",
       "</table>"
      ],
      "text/plain": [
       "[('British', 3),\n",
       " ('Canada', 1),\n",
       " ('Northern Ireland', 1),\n",
       " ('South Africa', 1),\n",
       " ('USA', 22)]"
      ]
     },
     "execution_count": 40,
     "metadata": {},
     "output_type": "execute_result"
    }
   ],
   "source": [
    "%%sql\n",
    "-- Report the nationality and the number of actors for each nationality\n",
    "SELECT a.nationality AS nationality, COUNT(*)  \n",
    "FROM actors AS a\n",
    "WHERE a.actor_id IN\n",
    "    (SELECT ai.actor_id\n",
    "     FROM actsin AS ai\n",
    "     LEFT JOIN movies AS m\n",
    "     ON m.movie_id = ai.movie_id\n",
    "     WHERE m.genre = 'Comedy')\n",
    "GROUP BY a.nationality LIMIT 5;\n"
   ]
  },
  {
   "cell_type": "markdown",
   "id": "e7c5fd98-a1e8-4296-8481-a29a58d83422",
   "metadata": {},
   "source": [
    "### None-USA young actors\n",
    "1. **What are ther actors who are either not from USA or born after 1990?**\n",
    "2. **What are the actors who are not from USA nad born after 1990?**\n",
    "2. **Dramas with high ratings?**"
   ]
  },
  {
   "cell_type": "code",
   "execution_count": 41,
   "id": "187d3f07-75bf-4372-992b-78e41679dd5d",
   "metadata": {
    "tags": []
   },
   "outputs": [
    {
     "name": "stdout",
     "output_type": "stream",
     "text": [
      " * sqlite:///movies_data.db\n",
      "Done.\n"
     ]
    },
    {
     "data": {
      "text/html": [
       "<table>\n",
       "    <thead>\n",
       "        <tr>\n",
       "            <th>name</th>\n",
       "            <th>nationality</th>\n",
       "            <th>year_of_birth</th>\n",
       "        </tr>\n",
       "    </thead>\n",
       "    <tbody>\n",
       "        <tr>\n",
       "            <td>Abbie Cornish</td>\n",
       "            <td>Australia</td>\n",
       "            <td>1982.0</td>\n",
       "        </tr>\n",
       "        <tr>\n",
       "            <td>Andrea Riseborough</td>\n",
       "            <td>British</td>\n",
       "            <td>1981.0</td>\n",
       "        </tr>\n",
       "        <tr>\n",
       "            <td>Annasophia Robb</td>\n",
       "            <td>USA</td>\n",
       "            <td>1993.0</td>\n",
       "        </tr>\n",
       "        <tr>\n",
       "            <td>Anthony Hopkins</td>\n",
       "            <td>British</td>\n",
       "            <td>1937.0</td>\n",
       "        </tr>\n",
       "        <tr>\n",
       "            <td>Barkhad Abdi</td>\n",
       "            <td>Somalia</td>\n",
       "            <td>1985.0</td>\n",
       "        </tr>\n",
       "    </tbody>\n",
       "</table>"
      ],
      "text/plain": [
       "[('Abbie Cornish', 'Australia', 1982.0),\n",
       " ('Andrea Riseborough', 'British', 1981.0),\n",
       " ('Annasophia Robb', 'USA', 1993.0),\n",
       " ('Anthony Hopkins', 'British', 1937.0),\n",
       " ('Barkhad Abdi', 'Somalia', 1985.0)]"
      ]
     },
     "execution_count": 41,
     "metadata": {},
     "output_type": "execute_result"
    }
   ],
   "source": [
    "%%sql\n",
    "SELECT name, \n",
    "       nationality, \n",
    "       year_of_birth\n",
    "FROM actors\n",
    "WHERE nationality <> 'USA'\n",
    "UNION -- Select all actors who are not from the USA and all actors who are born after 1990\n",
    "SELECT name, \n",
    "       nationality, \n",
    "       year_of_birth\n",
    "FROM actors\n",
    "WHERE year_of_birth > 1990\n",
    "LIMIT 5;"
   ]
  },
  {
   "cell_type": "markdown",
   "id": "ef292a22-4a09-4be0-8bac-29ac95b2a014",
   "metadata": {},
   "source": [
    "#### Dramas with high ratings "
   ]
  },
  {
   "cell_type": "code",
   "execution_count": 42,
   "id": "1ba363fe-2b36-49e7-9966-9f3f44497271",
   "metadata": {
    "tags": []
   },
   "outputs": [
    {
     "name": "stdout",
     "output_type": "stream",
     "text": [
      " * sqlite:///movies_data.db\n",
      "Done.\n"
     ]
    },
    {
     "data": {
      "text/html": [
       "<table>\n",
       "    <thead>\n",
       "        <tr>\n",
       "            <th>movie_id</th>\n",
       "            <th>title</th>\n",
       "            <th>genre</th>\n",
       "            <th>runtime</th>\n",
       "            <th>year_of_releas</th>\n",
       "            <th>renting_price</th>\n",
       "        </tr>\n",
       "    </thead>\n",
       "    <tbody>\n",
       "        <tr>\n",
       "            <td>42</td>\n",
       "            <td>No Country for Old Men</td>\n",
       "            <td>Drama</td>\n",
       "            <td>122</td>\n",
       "            <td>2007</td>\n",
       "            <td>1.49</td>\n",
       "        </tr>\n",
       "    </tbody>\n",
       "</table>"
      ],
      "text/plain": [
       "[(42, 'No Country for Old Men', 'Drama', 122, 2007, 1.49)]"
      ]
     },
     "execution_count": 42,
     "metadata": {},
     "output_type": "execute_result"
    }
   ],
   "source": [
    "%%sql\n",
    "SELECT *\n",
    "FROM movies\n",
    "WHERE movie_id IN -- Select all movies of genre drama with average rating higher than 9\n",
    "   (SELECT movie_id\n",
    "    FROM movies\n",
    "    WHERE genre = 'Drama'\n",
    "    INTERSECT\n",
    "    SELECT movie_id\n",
    "    FROM renting\n",
    "    GROUP BY movie_id\n",
    "    HAVING AVG(rating)>9);"
   ]
  },
  {
   "cell_type": "code",
   "execution_count": null,
   "id": "7529d933-039b-48b6-ad07-1642f54dfa88",
   "metadata": {},
   "outputs": [],
   "source": []
  }
 ],
 "metadata": {
  "kernelspec": {
   "display_name": "Python 3",
   "language": "python",
   "name": "python3"
  },
  "language_info": {
   "codemirror_mode": {
    "name": "ipython",
    "version": 3
   },
   "file_extension": ".py",
   "mimetype": "text/x-python",
   "name": "python",
   "nbconvert_exporter": "python",
   "pygments_lexer": "ipython3",
   "version": "3.10.12"
  }
 },
 "nbformat": 4,
 "nbformat_minor": 5
}
