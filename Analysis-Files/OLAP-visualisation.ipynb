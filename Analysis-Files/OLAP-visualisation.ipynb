{
 "cells": [
  {
   "cell_type": "code",
   "execution_count": 1,
   "id": "50715c66-6d79-4f59-9987-10387a9aa631",
   "metadata": {
    "tags": []
   },
   "outputs": [],
   "source": [
    "# Load SQL extension\n",
    "%load_ext sql"
   ]
  },
  {
   "cell_type": "code",
   "execution_count": 2,
   "id": "d38059b1-01ef-4705-83ab-8a090bfe8b1c",
   "metadata": {
    "tags": []
   },
   "outputs": [
    {
     "name": "stdout",
     "output_type": "stream",
     "text": [
      "Done.\n"
     ]
    },
    {
     "data": {
      "text/html": [
       "<table>\n",
       "    <thead>\n",
       "        <tr>\n",
       "            <th>COUNT(*)</th>\n",
       "        </tr>\n",
       "    </thead>\n",
       "    <tbody>\n",
       "        <tr>\n",
       "            <td>145</td>\n",
       "        </tr>\n",
       "    </tbody>\n",
       "</table>"
      ],
      "text/plain": [
       "[(145,)]"
      ]
     },
     "execution_count": 2,
     "metadata": {},
     "output_type": "execute_result"
    }
   ],
   "source": [
    "%%sql sqlite:///movies_data.db\n",
    "\n",
    "-- Example SQL query\n",
    "SELECT COUNT(*) FROM actors;"
   ]
  },
  {
   "cell_type": "markdown",
   "id": "5d70f2bc-5271-414c-a81a-0a96dc72865d",
   "metadata": {},
   "source": [
    "### Number of customer by countried and genders"
   ]
  },
  {
   "cell_type": "code",
   "execution_count": null,
   "id": "1736bc67-ae42-4ef2-b866-fb8c0e0d04f0",
   "metadata": {},
   "outputs": [],
   "source": [
    "%%sql\n",
    "-- Count the total number of customers, the number of customers for each country, and the number of female and male customers for each country\n",
    "SELECT country,\n",
    "       gender,\n",
    "\t   COUNT(*)\n",
    "FROM customers\n",
    "GROUP BY ROLLUP (country, gender)\n",
    "ORDER BY country, gender; -- Order the result by country and gender"
   ]
  },
  {
   "cell_type": "markdown",
   "id": "6e8c2843-47d0-462a-bad1-03ee71395e33",
   "metadata": {},
   "source": [
    "#### Group of customers\n",
    "Use the CUBE operator to extract the content of a pivot table from the database. Create a table with the total number of male and female customers from each country."
   ]
  },
  {
   "cell_type": "code",
   "execution_count": null,
   "id": "13e46a8c-b69e-4371-acf0-7e1a2659f0df",
   "metadata": {},
   "outputs": [],
   "source": [
    "%%sql\n",
    "SELECT gender, -- Extract information of a pivot table of gender and country for the number of customers\n",
    "\t   country,\n",
    "\t   COUNT(*)\n",
    "FROM customers\n",
    "GROUP BY CUBE (country, gender)\n",
    "ORDER BY country;"
   ]
  },
  {
   "cell_type": "markdown",
   "id": "d87bdb52-6f16-4245-b00a-db43a3478d18",
   "metadata": {},
   "source": [
    "#### Categories of movies\n",
    "Give an overview on the movies available on MovieNow. List the number of movies for different genres and release years."
   ]
  },
  {
   "cell_type": "code",
   "execution_count": null,
   "id": "98ff9bb9-a7db-40d9-92f7-43477c17825c",
   "metadata": {},
   "outputs": [],
   "source": [
    "SELECT genre,\n",
    "       year_of_release,\n",
    "       COUNT(*)\n",
    "FROM movies\n",
    "GROUP BY CUBE (genre,year_of_release)\n",
    "ORDER BY year_of_release;"
   ]
  },
  {
   "cell_type": "markdown",
   "id": "9d070ca0-e14b-4c26-b6bf-fdba4d51b4f9",
   "metadata": {},
   "source": [
    "### Customer Preference for Genre"
   ]
  },
  {
   "cell_type": "code",
   "execution_count": 4,
   "id": "ed29cede-53b1-4a7e-9885-ff96d1b70b4f",
   "metadata": {
    "tags": []
   },
   "outputs": [
    {
     "name": "stdout",
     "output_type": "stream",
     "text": [
      " * sqlite:///movies_data.db\n",
      "Done.\n"
     ]
    },
    {
     "data": {
      "text/html": [
       "<table>\n",
       "    <thead>\n",
       "        <tr>\n",
       "            <th>genre</th>\n",
       "            <th>avg_rating</th>\n",
       "            <th>n_rating</th>\n",
       "            <th>n_rentals</th>\n",
       "            <th>n_movies</th>\n",
       "        </tr>\n",
       "    </thead>\n",
       "    <tbody>\n",
       "        <tr>\n",
       "            <td>Action &amp; Adventure</td>\n",
       "            <td>8.714285714285714</td>\n",
       "            <td>7</td>\n",
       "            <td>9</td>\n",
       "            <td>2</td>\n",
       "        </tr>\n",
       "        <tr>\n",
       "            <td>Art House &amp; International</td>\n",
       "            <td>8.5</td>\n",
       "            <td>4</td>\n",
       "            <td>5</td>\n",
       "            <td>1</td>\n",
       "        </tr>\n",
       "        <tr>\n",
       "            <td>Other</td>\n",
       "            <td>8.428571428571429</td>\n",
       "            <td>7</td>\n",
       "            <td>16</td>\n",
       "            <td>2</td>\n",
       "        </tr>\n",
       "        <tr>\n",
       "            <td>Science Fiction &amp; Fantasy</td>\n",
       "            <td>8.27659574468085</td>\n",
       "            <td>47</td>\n",
       "            <td>70</td>\n",
       "            <td>10</td>\n",
       "        </tr>\n",
       "        <tr>\n",
       "            <td>Comedy</td>\n",
       "            <td>7.95</td>\n",
       "            <td>20</td>\n",
       "            <td>31</td>\n",
       "            <td>5</td>\n",
       "        </tr>\n",
       "        <tr>\n",
       "            <td>Animation</td>\n",
       "            <td>7.833333333333333</td>\n",
       "            <td>6</td>\n",
       "            <td>10</td>\n",
       "            <td>2</td>\n",
       "        </tr>\n",
       "        <tr>\n",
       "            <td>Drama</td>\n",
       "            <td>7.748251748251748</td>\n",
       "            <td>143</td>\n",
       "            <td>245</td>\n",
       "            <td>34</td>\n",
       "        </tr>\n",
       "        <tr>\n",
       "            <td>Mystery &amp; Suspense</td>\n",
       "            <td>7.428571428571429</td>\n",
       "            <td>7</td>\n",
       "            <td>19</td>\n",
       "            <td>3</td>\n",
       "        </tr>\n",
       "    </tbody>\n",
       "</table>"
      ],
      "text/plain": [
       "[('Action & Adventure', 8.714285714285714, 7, 9, 2),\n",
       " ('Art House & International', 8.5, 4, 5, 1),\n",
       " ('Other', 8.428571428571429, 7, 16, 2),\n",
       " ('Science Fiction & Fantasy', 8.27659574468085, 47, 70, 10),\n",
       " ('Comedy', 7.95, 20, 31, 5),\n",
       " ('Animation', 7.833333333333333, 6, 10, 2),\n",
       " ('Drama', 7.748251748251748, 143, 245, 34),\n",
       " ('Mystery & Suspense', 7.428571428571429, 7, 19, 3)]"
      ]
     },
     "execution_count": 4,
     "metadata": {},
     "output_type": "execute_result"
    }
   ],
   "source": [
    "%%sql\n",
    "SELECT m.genre, -- For each genre, calculate:\n",
    "       AVG(r.rating) AS avg_rating, -- The average rating and use the alias avg_rating\n",
    "       COUNT(r.rating) AS n_rating, -- The number of ratings and use the alias n_rating\n",
    "       COUNT(*) AS n_rentals,     -- The number of movie rentals and use the alias n_rentals\n",
    "       COUNT(DISTINCT r.movie_id) as n_movies -- The number of distinct movies and use the alias n_movies\n",
    "FROM renting AS r\n",
    "LEFT JOIN movies AS m\n",
    "ON m.movie_id = r.movie_id\n",
    "WHERE r.movie_id IN ( \n",
    "    SELECT movie_id\n",
    "    FROM renting\n",
    "    GROUP BY movie_id\n",
    "    HAVING COUNT(rating) >= 3 )\n",
    "AND r.date_renting >= '2018-01-01'\n",
    "GROUP BY genre\n",
    "ORDER BY avg_rating DESC ; -- Order the table by decreasing average rating"
   ]
  },
  {
   "cell_type": "markdown",
   "id": "df05e210-63d8-4182-93c1-4e0cfd2060dc",
   "metadata": {},
   "source": [
    "### Customer preference for actors"
   ]
  },
  {
   "cell_type": "code",
   "execution_count": 10,
   "id": "3cdd1c25-d0a2-4392-8d75-3496e6550b1a",
   "metadata": {
    "tags": []
   },
   "outputs": [
    {
     "name": "stdout",
     "output_type": "stream",
     "text": [
      " * sqlite:///movies_data.db\n",
      "(sqlite3.OperationalError) no such function: ROLLUP\n",
      "[SQL: -- Group by each county and genre with OLAP extension\n",
      "SELECT \n",
      "\tc.country, \n",
      "\tm.genre, \n",
      "\tAVG(r.rating) AS avg_rating, \n",
      "\tCOUNT(*) AS num_rating\n",
      "FROM renting AS r\n",
      "LEFT JOIN movies AS m\n",
      "ON m.movie_id = r.movie_id\n",
      "LEFT JOIN customers AS c\n",
      "ON r.customer_id = c.customer_id\n",
      "GROUP BY ROLLUP (country, genre)\n",
      "ORDER BY c.country, m.genre;]\n",
      "(Background on this error at: https://sqlalche.me/e/20/e3q8)\n"
     ]
    }
   ],
   "source": [
    "%%sql\n",
    "-- Group by each county and genre with OLAP extension\n",
    "SELECT \n",
    "\tc.country, \n",
    "\tm.genre, \n",
    "\tAVG(r.rating) AS avg_rating, \n",
    "\tCOUNT(*) AS num_rating\n",
    "FROM renting AS r\n",
    "LEFT JOIN movies AS m\n",
    "ON m.movie_id = r.movie_id\n",
    "LEFT JOIN customers AS c\n",
    "ON r.customer_id = c.customer_id\n",
    "GROUP BY ROLLUP (country, genre)\n",
    "ORDER BY c.country, m.genre;"
   ]
  },
  {
   "cell_type": "code",
   "execution_count": 9,
   "id": "431fb132-c554-4557-b215-8a3f0a8798dd",
   "metadata": {
    "tags": []
   },
   "outputs": [
    {
     "name": "stdout",
     "output_type": "stream",
     "text": [
      " * sqlite:///movies_data.db\n",
      "(sqlite3.OperationalError) no such function: ROLLUP\n",
      "[SQL: SELECT a.nationality,\n",
      "       a.gender,\n",
      "\t   AVG(r.rating) AS avg_rating, -- The average rating\n",
      "\t   COUNT(r.rating) AS n_rating, -- The number of ratings\n",
      "\t   COUNT(*) AS n_rentals, -- The number of movie rentals\n",
      "\t   COUNT(DISTINCT a.actor_id) AS n_actors -- The number of actors\n",
      "FROM renting AS r\n",
      "LEFT JOIN actsin AS ai\n",
      "ON ai.movie_id = r.movie_id\n",
      "LEFT JOIN actors AS a\n",
      "ON ai.actor_id = a.actor_id\n",
      "WHERE r.movie_id IN ( \n",
      "\tSELECT movie_id\n",
      "\tFROM renting\n",
      "\tGROUP BY movie_id\n",
      "\tHAVING COUNT(rating) >=4 )\n",
      "AND r.date_renting >= '2018-04-01'\n",
      "GROUP BY ROLLUP (a.nationality,a.gender); -- Report results for each combination of the actors' nationality and gender WITH CUBE]\n",
      "(Background on this error at: https://sqlalche.me/e/20/e3q8)\n"
     ]
    }
   ],
   "source": [
    "%%sql\n",
    "SELECT a.nationality,\n",
    "       a.gender,\n",
    "       AVG(r.rating) AS avg_rating, -- The average rating\n",
    "       COUNT(r.rating) AS n_rating, -- The number of ratings\n",
    "       COUNT(*) AS n_rentals, -- The number of movie rentals\n",
    "       COUNT(DISTINCT a.actor_id) AS n_actors -- The number of actors\n",
    "FROM renting AS r\n",
    "LEFT JOIN actsin AS ai\n",
    "ON ai.movie_id = r.movie_id\n",
    "LEFT JOIN actors AS a\n",
    "ON ai.actor_id = a.actor_id\n",
    "WHERE r.movie_id IN ( \n",
    "    SELECT movie_id\n",
    "    FROM renting\n",
    "    GROUP BY movie_ids\n",
    "    HAVING COUNT(rating) >=4 )\n",
    "AND r.date_renting >= '2018-04-01'\n",
    "GROUP BY CUBE (a.nationality,a.gender); -- Report results for each combination of the actors' nationality and gender WITH CUBE"
   ]
  },
  {
   "cell_type": "code",
   "execution_count": null,
   "id": "3ae92d5b-80cb-48d3-91e8-5c5cb9e36122",
   "metadata": {},
   "outputs": [],
   "source": []
  }
 ],
 "metadata": {
  "kernelspec": {
   "display_name": "Python 3",
   "language": "python",
   "name": "python3"
  },
  "language_info": {
   "codemirror_mode": {
    "name": "ipython",
    "version": 3
   },
   "file_extension": ".py",
   "mimetype": "text/x-python",
   "name": "python",
   "nbconvert_exporter": "python",
   "pygments_lexer": "ipython3",
   "version": "3.10.12"
  }
 },
 "nbformat": 4,
 "nbformat_minor": 5
}
