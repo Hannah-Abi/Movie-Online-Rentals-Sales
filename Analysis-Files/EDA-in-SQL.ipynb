{
 "cells": [
  {
   "cell_type": "code",
   "execution_count": 3,
   "metadata": {
    "tags": []
   },
   "outputs": [
    {
     "name": "stdout",
     "output_type": "stream",
     "text": [
      "Collecting pandasql\n",
      "  Downloading pandasql-0.7.3.tar.gz (26 kB)\n",
      "  Preparing metadata (setup.py) ... \u001b[?25ldone\n",
      "\u001b[?25hRequirement already satisfied: numpy in /opt/software/lib/python3.10/site-packages (from pandasql) (1.23.5)\n",
      "Requirement already satisfied: pandas in /opt/software/lib/python3.10/site-packages (from pandasql) (2.1.3)\n",
      "Requirement already satisfied: sqlalchemy in /opt/software/lib/python3.10/site-packages (from pandasql) (2.0.23)\n",
      "Requirement already satisfied: python-dateutil>=2.8.2 in /opt/software/lib/python3.10/site-packages (from pandas->pandasql) (2.8.2)\n",
      "Requirement already satisfied: pytz>=2020.1 in /opt/software/lib/python3.10/site-packages (from pandas->pandasql) (2023.3.post1)\n",
      "Requirement already satisfied: tzdata>=2022.1 in /opt/software/lib/python3.10/site-packages (from pandas->pandasql) (2023.3)\n",
      "Requirement already satisfied: typing-extensions>=4.2.0 in /opt/software/lib/python3.10/site-packages (from sqlalchemy->pandasql) (4.8.0)\n",
      "Requirement already satisfied: greenlet!=0.4.17 in /opt/software/lib/python3.10/site-packages (from sqlalchemy->pandasql) (3.0.1)\n",
      "Requirement already satisfied: six>=1.5 in /opt/software/lib/python3.10/site-packages (from python-dateutil>=2.8.2->pandas->pandasql) (1.16.0)\n",
      "Building wheels for collected packages: pandasql\n",
      "  Building wheel for pandasql (setup.py) ... \u001b[?25ldone\n",
      "\u001b[?25h  Created wheel for pandasql: filename=pandasql-0.7.3-py3-none-any.whl size=26771 sha256=9e3054a7cbb447a09b8d10968509c47c29018d452f2ad6c5a9c7f1f048e24995\n",
      "  Stored in directory: /home/phamh10/.cache/pip/wheels/e9/bc/3a/8434bdcccf5779e72894a9b24fecbdcaf97940607eaf4bcdf9\n",
      "Successfully built pandasql\n",
      "Installing collected packages: pandasql\n",
      "Successfully installed pandasql-0.7.3\n",
      "Note: you may need to restart the kernel to use updated packages.\n"
     ]
    }
   ],
   "source": [
    "%pip install pandasql"
   ]
  },
  {
   "cell_type": "code",
   "execution_count": 4,
   "metadata": {
    "tags": []
   },
   "outputs": [],
   "source": [
    "import pandas as pd\n",
    "import pandasql as ps\n",
    "from pandasql import sqldf"
   ]
  },
  {
   "cell_type": "markdown",
   "metadata": {},
   "source": [
    "### Import database"
   ]
  },
  {
   "cell_type": "code",
   "execution_count": 14,
   "metadata": {
    "tags": []
   },
   "outputs": [],
   "source": [
    "actors = pd.read_csv('Dataset/actors.csv')\n",
    "customers = pd.read_csv('Dataset/customers.csv')\n",
    "movies = pd.read_csv('Dataset/movies.csv')\n",
    "renting = pd.read_csv('Dataset/renting.csv')\n",
    "actsin = pd.read_csv('Dataset/actsin.csv')"
   ]
  },
  {
   "cell_type": "code",
   "execution_count": 15,
   "metadata": {
    "tags": []
   },
   "outputs": [
    {
     "data": {
      "text/html": [
       "<div>\n",
       "<style scoped>\n",
       "    .dataframe tbody tr th:only-of-type {\n",
       "        vertical-align: middle;\n",
       "    }\n",
       "\n",
       "    .dataframe tbody tr th {\n",
       "        vertical-align: top;\n",
       "    }\n",
       "\n",
       "    .dataframe thead th {\n",
       "        text-align: right;\n",
       "    }\n",
       "</style>\n",
       "<table border=\"1\" class=\"dataframe\">\n",
       "  <thead>\n",
       "    <tr style=\"text-align: right;\">\n",
       "      <th></th>\n",
       "      <th>renting_id</th>\n",
       "      <th>customer_id</th>\n",
       "      <th>movie_id</th>\n",
       "      <th>rating</th>\n",
       "      <th>date_renting</th>\n",
       "    </tr>\n",
       "  </thead>\n",
       "  <tbody>\n",
       "    <tr>\n",
       "      <th>0</th>\n",
       "      <td>1</td>\n",
       "      <td>41</td>\n",
       "      <td>8</td>\n",
       "      <td>NaN</td>\n",
       "      <td>2018-10-09</td>\n",
       "    </tr>\n",
       "    <tr>\n",
       "      <th>1</th>\n",
       "      <td>2</td>\n",
       "      <td>10</td>\n",
       "      <td>29</td>\n",
       "      <td>10.0</td>\n",
       "      <td>2017-03-01</td>\n",
       "    </tr>\n",
       "    <tr>\n",
       "      <th>2</th>\n",
       "      <td>3</td>\n",
       "      <td>108</td>\n",
       "      <td>45</td>\n",
       "      <td>4.0</td>\n",
       "      <td>2018-06-08</td>\n",
       "    </tr>\n",
       "    <tr>\n",
       "      <th>3</th>\n",
       "      <td>4</td>\n",
       "      <td>39</td>\n",
       "      <td>66</td>\n",
       "      <td>8.0</td>\n",
       "      <td>2018-10-22</td>\n",
       "    </tr>\n",
       "    <tr>\n",
       "      <th>4</th>\n",
       "      <td>5</td>\n",
       "      <td>104</td>\n",
       "      <td>15</td>\n",
       "      <td>7.0</td>\n",
       "      <td>2019-03-18</td>\n",
       "    </tr>\n",
       "  </tbody>\n",
       "</table>\n",
       "</div>"
      ],
      "text/plain": [
       "   renting_id  customer_id  movie_id  rating date_renting\n",
       "0           1           41         8     NaN   2018-10-09\n",
       "1           2           10        29    10.0   2017-03-01\n",
       "2           3          108        45     4.0   2018-06-08\n",
       "3           4           39        66     8.0   2018-10-22\n",
       "4           5          104        15     7.0   2019-03-18"
      ]
     },
     "execution_count": 15,
     "metadata": {},
     "output_type": "execute_result"
    }
   ],
   "source": [
    "#### Testing DB connection \n",
    "renting.head()"
   ]
  },
  {
   "cell_type": "markdown",
   "metadata": {},
   "source": [
    "### Exploratory Data Analysis"
   ]
  },
  {
   "cell_type": "markdown",
   "metadata": {},
   "source": [
    "#### Working with datetime"
   ]
  },
  {
   "cell_type": "code",
   "execution_count": 7,
   "metadata": {
    "tags": []
   },
   "outputs": [],
   "source": [
    "# Change dataType\n",
    "renting['date_renting'] = pd.to_datetime(renting['date_renting'])"
   ]
  },
  {
   "cell_type": "code",
   "execution_count": 8,
   "metadata": {
    "tags": []
   },
   "outputs": [
    {
     "data": {
      "text/html": [
       "<div>\n",
       "<style scoped>\n",
       "    .dataframe tbody tr th:only-of-type {\n",
       "        vertical-align: middle;\n",
       "    }\n",
       "\n",
       "    .dataframe tbody tr th {\n",
       "        vertical-align: top;\n",
       "    }\n",
       "\n",
       "    .dataframe thead th {\n",
       "        text-align: right;\n",
       "    }\n",
       "</style>\n",
       "<table border=\"1\" class=\"dataframe\">\n",
       "  <thead>\n",
       "    <tr style=\"text-align: right;\">\n",
       "      <th></th>\n",
       "      <th>customer_id</th>\n",
       "      <th>name</th>\n",
       "      <th>country</th>\n",
       "      <th>gender</th>\n",
       "      <th>date_of_birth</th>\n",
       "      <th>date_account_start</th>\n",
       "    </tr>\n",
       "  </thead>\n",
       "  <tbody>\n",
       "    <tr>\n",
       "      <th>0</th>\n",
       "      <td>2</td>\n",
       "      <td>Wolfgang Ackermann</td>\n",
       "      <td>Austria</td>\n",
       "      <td>male</td>\n",
       "      <td>1971-11-17T00:00:00.000Z</td>\n",
       "      <td>2018-10-15T00:00:00.000Z</td>\n",
       "    </tr>\n",
       "    <tr>\n",
       "      <th>1</th>\n",
       "      <td>3</td>\n",
       "      <td>Daniela Herzog</td>\n",
       "      <td>Austria</td>\n",
       "      <td>female</td>\n",
       "      <td>1974-08-07T00:00:00.000Z</td>\n",
       "      <td>2019-02-14T00:00:00.000Z</td>\n",
       "    </tr>\n",
       "    <tr>\n",
       "      <th>2</th>\n",
       "      <td>4</td>\n",
       "      <td>Julia Jung</td>\n",
       "      <td>Austria</td>\n",
       "      <td>female</td>\n",
       "      <td>1991-01-04T00:00:00.000Z</td>\n",
       "      <td>2017-11-22T00:00:00.000Z</td>\n",
       "    </tr>\n",
       "    <tr>\n",
       "      <th>3</th>\n",
       "      <td>5</td>\n",
       "      <td>Juliane Kirsch</td>\n",
       "      <td>Austria</td>\n",
       "      <td>female</td>\n",
       "      <td>1977-03-01T00:00:00.000Z</td>\n",
       "      <td>2018-12-16T00:00:00.000Z</td>\n",
       "    </tr>\n",
       "    <tr>\n",
       "      <th>4</th>\n",
       "      <td>6</td>\n",
       "      <td>Rowanne Couperus</td>\n",
       "      <td>Belgium</td>\n",
       "      <td>female</td>\n",
       "      <td>1994-04-05T00:00:00.000Z</td>\n",
       "      <td>2018-08-26T00:00:00.000Z</td>\n",
       "    </tr>\n",
       "  </tbody>\n",
       "</table>\n",
       "</div>"
      ],
      "text/plain": [
       "   customer_id                name  country  gender             date_of_birth  \\\n",
       "0            2  Wolfgang Ackermann  Austria    male  1971-11-17T00:00:00.000Z   \n",
       "1            3      Daniela Herzog  Austria  female  1974-08-07T00:00:00.000Z   \n",
       "2            4          Julia Jung  Austria  female  1991-01-04T00:00:00.000Z   \n",
       "3            5      Juliane Kirsch  Austria  female  1977-03-01T00:00:00.000Z   \n",
       "4            6    Rowanne Couperus  Belgium  female  1994-04-05T00:00:00.000Z   \n",
       "\n",
       "         date_account_start  \n",
       "0  2018-10-15T00:00:00.000Z  \n",
       "1  2019-02-14T00:00:00.000Z  \n",
       "2  2017-11-22T00:00:00.000Z  \n",
       "3  2018-12-16T00:00:00.000Z  \n",
       "4  2018-08-26T00:00:00.000Z  "
      ]
     },
     "execution_count": 8,
     "metadata": {},
     "output_type": "execute_result"
    }
   ],
   "source": [
    "customers.head()"
   ]
  },
  {
   "cell_type": "markdown",
   "metadata": {},
   "source": [
    "#### Selecting movies"
   ]
  },
  {
   "cell_type": "code",
   "execution_count": 11,
   "metadata": {
    "tags": []
   },
   "outputs": [
    {
     "data": {
      "text/html": [
       "<div>\n",
       "<style scoped>\n",
       "    .dataframe tbody tr th:only-of-type {\n",
       "        vertical-align: middle;\n",
       "    }\n",
       "\n",
       "    .dataframe tbody tr th {\n",
       "        vertical-align: top;\n",
       "    }\n",
       "\n",
       "    .dataframe thead th {\n",
       "        text-align: right;\n",
       "    }\n",
       "</style>\n",
       "<table border=\"1\" class=\"dataframe\">\n",
       "  <thead>\n",
       "    <tr style=\"text-align: right;\">\n",
       "      <th></th>\n",
       "      <th>movie_id</th>\n",
       "      <th>title</th>\n",
       "      <th>genre</th>\n",
       "      <th>runtime</th>\n",
       "      <th>year_of_releas</th>\n",
       "      <th>renting_price</th>\n",
       "    </tr>\n",
       "  </thead>\n",
       "  <tbody>\n",
       "    <tr>\n",
       "      <th>0</th>\n",
       "      <td>9</td>\n",
       "      <td>11'09''01 September 11</td>\n",
       "      <td>Drama</td>\n",
       "      <td>134</td>\n",
       "      <td>2002</td>\n",
       "      <td>2.99</td>\n",
       "    </tr>\n",
       "    <tr>\n",
       "      <th>1</th>\n",
       "      <td>51</td>\n",
       "      <td>Morning Glory</td>\n",
       "      <td>Comedy</td>\n",
       "      <td>107</td>\n",
       "      <td>2010</td>\n",
       "      <td>2.99</td>\n",
       "    </tr>\n",
       "    <tr>\n",
       "      <th>2</th>\n",
       "      <td>24</td>\n",
       "      <td>Welcome to Mooseport</td>\n",
       "      <td>Comedy</td>\n",
       "      <td>110</td>\n",
       "      <td>2004</td>\n",
       "      <td>2.89</td>\n",
       "    </tr>\n",
       "    <tr>\n",
       "      <th>3</th>\n",
       "      <td>25</td>\n",
       "      <td>Bridget Jones - The Edge of Reason</td>\n",
       "      <td>Drama</td>\n",
       "      <td>108</td>\n",
       "      <td>2004</td>\n",
       "      <td>2.89</td>\n",
       "    </tr>\n",
       "    <tr>\n",
       "      <th>4</th>\n",
       "      <td>32</td>\n",
       "      <td>A Good Woman</td>\n",
       "      <td>Drama</td>\n",
       "      <td>93</td>\n",
       "      <td>2006</td>\n",
       "      <td>2.89</td>\n",
       "    </tr>\n",
       "    <tr>\n",
       "      <th>...</th>\n",
       "      <td>...</td>\n",
       "      <td>...</td>\n",
       "      <td>...</td>\n",
       "      <td>...</td>\n",
       "      <td>...</td>\n",
       "      <td>...</td>\n",
       "    </tr>\n",
       "    <tr>\n",
       "      <th>66</th>\n",
       "      <td>49</td>\n",
       "      <td>Harry Potter and the Half-Blood Prince</td>\n",
       "      <td>Science Fiction &amp; Fantasy</td>\n",
       "      <td>153</td>\n",
       "      <td>2009</td>\n",
       "      <td>1.59</td>\n",
       "    </tr>\n",
       "    <tr>\n",
       "      <th>67</th>\n",
       "      <td>66</td>\n",
       "      <td>The Hunger Games</td>\n",
       "      <td>Drama</td>\n",
       "      <td>142</td>\n",
       "      <td>2012</td>\n",
       "      <td>1.59</td>\n",
       "    </tr>\n",
       "    <tr>\n",
       "      <th>68</th>\n",
       "      <td>67</td>\n",
       "      <td>White House Down</td>\n",
       "      <td>Drama</td>\n",
       "      <td>131</td>\n",
       "      <td>2013</td>\n",
       "      <td>1.59</td>\n",
       "    </tr>\n",
       "    <tr>\n",
       "      <th>69</th>\n",
       "      <td>70</td>\n",
       "      <td>Captain Phillips</td>\n",
       "      <td>Drama</td>\n",
       "      <td>134</td>\n",
       "      <td>2013</td>\n",
       "      <td>1.59</td>\n",
       "    </tr>\n",
       "    <tr>\n",
       "      <th>70</th>\n",
       "      <td>42</td>\n",
       "      <td>No Country for Old Men</td>\n",
       "      <td>Drama</td>\n",
       "      <td>122</td>\n",
       "      <td>2007</td>\n",
       "      <td>1.49</td>\n",
       "    </tr>\n",
       "  </tbody>\n",
       "</table>\n",
       "<p>71 rows × 6 columns</p>\n",
       "</div>"
      ],
      "text/plain": [
       "    movie_id                                   title  \\\n",
       "0          9                  11'09''01 September 11   \n",
       "1         51                           Morning Glory   \n",
       "2         24                    Welcome to Mooseport   \n",
       "3         25      Bridget Jones - The Edge of Reason   \n",
       "4         32                            A Good Woman   \n",
       "..       ...                                     ...   \n",
       "66        49  Harry Potter and the Half-Blood Prince   \n",
       "67        66                        The Hunger Games   \n",
       "68        67                        White House Down   \n",
       "69        70                        Captain Phillips   \n",
       "70        42                  No Country for Old Men   \n",
       "\n",
       "                        genre  runtime  year_of_releas  renting_price  \n",
       "0                       Drama      134            2002           2.99  \n",
       "1                      Comedy      107            2010           2.99  \n",
       "2                      Comedy      110            2004           2.89  \n",
       "3                       Drama      108            2004           2.89  \n",
       "4                       Drama       93            2006           2.89  \n",
       "..                        ...      ...             ...            ...  \n",
       "66  Science Fiction & Fantasy      153            2009           1.59  \n",
       "67                      Drama      142            2012           1.59  \n",
       "68                      Drama      131            2013           1.59  \n",
       "69                      Drama      134            2013           1.59  \n",
       "70                      Drama      122            2007           1.49  \n",
       "\n",
       "[71 rows x 6 columns]"
      ]
     },
     "execution_count": 11,
     "metadata": {},
     "output_type": "execute_result"
    }
   ],
   "source": [
    "# Order the movies by increasing renting price.\n",
    "sqldf(\"\"\"SELECT *\n",
    "FROM movies\n",
    "ORDER BY renting_price DESC ; -- Order the movies by increasing renting price\"\"\")"
   ]
  },
  {
   "cell_type": "code",
   "execution_count": 7,
   "metadata": {
    "tags": []
   },
   "outputs": [
    {
     "name": "stdout",
     "output_type": "stream",
     "text": [
      "   renting_id  customer_id  movie_id  rating date_renting\n",
      "0           1           41         8     NaN   2018-10-09\n",
      "1           6           50        71     7.0   2018-10-09\n"
     ]
    }
   ],
   "source": [
    "print(sqldf(\"\"\"SELECT * FROM renting\n",
    "WHERE date_renting = \"2018-10-09\";\"\"\")) # Movies rented on October 9th, 2018"
   ]
  },
  {
   "cell_type": "markdown",
   "metadata": {},
   "source": [
    "#### Selectin renting "
   ]
  },
  {
   "cell_type": "code",
   "execution_count": 12,
   "metadata": {
    "tags": []
   },
   "outputs": [
    {
     "data": {
      "text/html": [
       "<div>\n",
       "<style scoped>\n",
       "    .dataframe tbody tr th:only-of-type {\n",
       "        vertical-align: middle;\n",
       "    }\n",
       "\n",
       "    .dataframe tbody tr th {\n",
       "        vertical-align: top;\n",
       "    }\n",
       "\n",
       "    .dataframe thead th {\n",
       "        text-align: right;\n",
       "    }\n",
       "</style>\n",
       "<table border=\"1\" class=\"dataframe\">\n",
       "  <thead>\n",
       "    <tr style=\"text-align: right;\">\n",
       "      <th></th>\n",
       "      <th>renting_id</th>\n",
       "      <th>customer_id</th>\n",
       "      <th>movie_id</th>\n",
       "      <th>rating</th>\n",
       "      <th>date_renting</th>\n",
       "    </tr>\n",
       "  </thead>\n",
       "  <tbody>\n",
       "    <tr>\n",
       "      <th>0</th>\n",
       "      <td>3</td>\n",
       "      <td>108</td>\n",
       "      <td>45</td>\n",
       "      <td>4.0</td>\n",
       "      <td>2018-06-08</td>\n",
       "    </tr>\n",
       "    <tr>\n",
       "      <th>1</th>\n",
       "      <td>4</td>\n",
       "      <td>39</td>\n",
       "      <td>66</td>\n",
       "      <td>8.0</td>\n",
       "      <td>2018-10-22</td>\n",
       "    </tr>\n",
       "    <tr>\n",
       "      <th>2</th>\n",
       "      <td>6</td>\n",
       "      <td>50</td>\n",
       "      <td>71</td>\n",
       "      <td>7.0</td>\n",
       "      <td>2018-10-09</td>\n",
       "    </tr>\n",
       "    <tr>\n",
       "      <th>3</th>\n",
       "      <td>8</td>\n",
       "      <td>73</td>\n",
       "      <td>65</td>\n",
       "      <td>10.0</td>\n",
       "      <td>2018-06-05</td>\n",
       "    </tr>\n",
       "    <tr>\n",
       "      <th>4</th>\n",
       "      <td>12</td>\n",
       "      <td>52</td>\n",
       "      <td>65</td>\n",
       "      <td>10.0</td>\n",
       "      <td>2018-06-29</td>\n",
       "    </tr>\n",
       "    <tr>\n",
       "      <th>...</th>\n",
       "      <td>...</td>\n",
       "      <td>...</td>\n",
       "      <td>...</td>\n",
       "      <td>...</td>\n",
       "      <td>...</td>\n",
       "    </tr>\n",
       "    <tr>\n",
       "      <th>158</th>\n",
       "      <td>561</td>\n",
       "      <td>113</td>\n",
       "      <td>36</td>\n",
       "      <td>5.0</td>\n",
       "      <td>2018-06-29</td>\n",
       "    </tr>\n",
       "    <tr>\n",
       "      <th>159</th>\n",
       "      <td>565</td>\n",
       "      <td>63</td>\n",
       "      <td>53</td>\n",
       "      <td>10.0</td>\n",
       "      <td>2018-10-25</td>\n",
       "    </tr>\n",
       "    <tr>\n",
       "      <th>160</th>\n",
       "      <td>566</td>\n",
       "      <td>28</td>\n",
       "      <td>45</td>\n",
       "      <td>7.0</td>\n",
       "      <td>2018-05-29</td>\n",
       "    </tr>\n",
       "    <tr>\n",
       "      <th>161</th>\n",
       "      <td>571</td>\n",
       "      <td>92</td>\n",
       "      <td>28</td>\n",
       "      <td>9.0</td>\n",
       "      <td>2018-11-22</td>\n",
       "    </tr>\n",
       "    <tr>\n",
       "      <th>162</th>\n",
       "      <td>575</td>\n",
       "      <td>45</td>\n",
       "      <td>31</td>\n",
       "      <td>10.0</td>\n",
       "      <td>2018-06-09</td>\n",
       "    </tr>\n",
       "  </tbody>\n",
       "</table>\n",
       "<p>163 rows × 5 columns</p>\n",
       "</div>"
      ],
      "text/plain": [
       "     renting_id  customer_id  movie_id  rating date_renting\n",
       "0             3          108        45     4.0   2018-06-08\n",
       "1             4           39        66     8.0   2018-10-22\n",
       "2             6           50        71     7.0   2018-10-09\n",
       "3             8           73        65    10.0   2018-06-05\n",
       "4            12           52        65    10.0   2018-06-29\n",
       "..          ...          ...       ...     ...          ...\n",
       "158         561          113        36     5.0   2018-06-29\n",
       "159         565           63        53    10.0   2018-10-25\n",
       "160         566           28        45     7.0   2018-05-29\n",
       "161         571           92        28     9.0   2018-11-22\n",
       "162         575           45        31    10.0   2018-06-09\n",
       "\n",
       "[163 rows x 5 columns]"
      ]
     },
     "execution_count": 12,
     "metadata": {},
     "output_type": "execute_result"
    }
   ],
   "source": [
    "# Filter only those records which have a movie rating.\n",
    "sqldf(\"\"\"SELECT *\n",
    "FROM renting\n",
    "WHERE date_renting BETWEEN '2018-01-01' AND '2018-12-31' -- Renting in 2018\n",
    "AND rating IS NOT NULL; -- Rating exists\"\"\")\n"
   ]
  },
  {
   "cell_type": "markdown",
   "metadata": {},
   "source": [
    "#### Examining annual rentals"
   ]
  },
  {
   "cell_type": "code",
   "execution_count": 9,
   "metadata": {
    "tags": []
   },
   "outputs": [
    {
     "data": {
      "text/html": [
       "<div>\n",
       "<style scoped>\n",
       "    .dataframe tbody tr th:only-of-type {\n",
       "        vertical-align: middle;\n",
       "    }\n",
       "\n",
       "    .dataframe tbody tr th {\n",
       "        vertical-align: top;\n",
       "    }\n",
       "\n",
       "    .dataframe thead th {\n",
       "        text-align: right;\n",
       "    }\n",
       "</style>\n",
       "<table border=\"1\" class=\"dataframe\">\n",
       "  <thead>\n",
       "    <tr style=\"text-align: right;\">\n",
       "      <th></th>\n",
       "      <th>number_renting</th>\n",
       "      <th>average_rating</th>\n",
       "      <th>number_ratings</th>\n",
       "    </tr>\n",
       "  </thead>\n",
       "  <tbody>\n",
       "    <tr>\n",
       "      <th>0</th>\n",
       "      <td>159</td>\n",
       "      <td>7.946237</td>\n",
       "      <td>93</td>\n",
       "    </tr>\n",
       "  </tbody>\n",
       "</table>\n",
       "</div>"
      ],
      "text/plain": [
       "   number_renting  average_rating  number_ratings\n",
       "0             159        7.946237              93"
      ]
     },
     "execution_count": 9,
     "metadata": {},
     "output_type": "execute_result"
    }
   ],
   "source": [
    "# the total number of ratings and the average rating of all movies since the beginning of 2019.\n",
    "sqldf(\"\"\"SELECT \n",
    "\tCOUNT(*) AS number_renting,\n",
    "\tAVG(rating) AS average_rating, \n",
    "    COUNT(rating) AS number_ratings -- Add the total number of ratings here.\n",
    "FROM renting\n",
    "WHERE date_renting >= '2019-01-01';\"\"\")"
   ]
  },
  {
   "cell_type": "code",
   "execution_count": null,
   "metadata": {},
   "outputs": [],
   "source": []
  }
 ],
 "metadata": {
  "kernelspec": {
   "display_name": "Python 3",
   "language": "python",
   "name": "python3"
  },
  "language_info": {
   "codemirror_mode": {
    "name": "ipython",
    "version": 3
   },
   "file_extension": ".py",
   "mimetype": "text/x-python",
   "name": "python",
   "nbconvert_exporter": "python",
   "pygments_lexer": "ipython3",
   "version": "3.10.12"
  }
 },
 "nbformat": 4,
 "nbformat_minor": 4
}
