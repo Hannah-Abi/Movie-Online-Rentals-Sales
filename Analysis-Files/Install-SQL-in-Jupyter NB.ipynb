{
 "cells": [
  {
   "cell_type": "code",
   "execution_count": 1,
   "id": "cedacb7d-8631-45f3-adb5-3330783e8a55",
   "metadata": {
    "tags": []
   },
   "outputs": [
    {
     "name": "stdout",
     "output_type": "stream",
     "text": [
      "Collecting ipython-sql\n",
      "  Downloading ipython_sql-0.5.0-py3-none-any.whl (20 kB)\n",
      "Collecting prettytable (from ipython-sql)\n",
      "  Downloading prettytable-3.9.0-py3-none-any.whl (27 kB)\n",
      "Requirement already satisfied: ipython in /opt/software/lib/python3.10/site-packages (from ipython-sql) (8.17.2)\n",
      "Requirement already satisfied: sqlalchemy>=2.0 in /opt/software/lib/python3.10/site-packages (from ipython-sql) (2.0.23)\n",
      "Collecting sqlparse (from ipython-sql)\n",
      "  Downloading sqlparse-0.4.4-py3-none-any.whl (41 kB)\n",
      "\u001b[2K     \u001b[90m━━━━━━━━━━━━━━━━━━━━━━━━━━━━━━━━━━━━━━━━\u001b[0m \u001b[32m41.2/41.2 kB\u001b[0m \u001b[31m13.1 MB/s\u001b[0m eta \u001b[36m0:00:00\u001b[0m\n",
      "\u001b[?25hRequirement already satisfied: six in /opt/software/lib/python3.10/site-packages (from ipython-sql) (1.16.0)\n",
      "Requirement already satisfied: ipython-genutils in /opt/software/lib/python3.10/site-packages (from ipython-sql) (0.2.0)\n",
      "Requirement already satisfied: typing-extensions>=4.2.0 in /opt/software/lib/python3.10/site-packages (from sqlalchemy>=2.0->ipython-sql) (4.8.0)\n",
      "Requirement already satisfied: greenlet!=0.4.17 in /opt/software/lib/python3.10/site-packages (from sqlalchemy>=2.0->ipython-sql) (3.0.1)\n",
      "Requirement already satisfied: decorator in /opt/software/lib/python3.10/site-packages (from ipython->ipython-sql) (5.1.1)\n",
      "Requirement already satisfied: jedi>=0.16 in /opt/software/lib/python3.10/site-packages (from ipython->ipython-sql) (0.19.1)\n",
      "Requirement already satisfied: matplotlib-inline in /opt/software/lib/python3.10/site-packages (from ipython->ipython-sql) (0.1.6)\n",
      "Requirement already satisfied: prompt-toolkit!=3.0.37,<3.1.0,>=3.0.30 in /opt/software/lib/python3.10/site-packages (from ipython->ipython-sql) (3.0.41)\n",
      "Requirement already satisfied: pygments>=2.4.0 in /opt/software/lib/python3.10/site-packages (from ipython->ipython-sql) (2.17.2)\n",
      "Requirement already satisfied: stack-data in /opt/software/lib/python3.10/site-packages (from ipython->ipython-sql) (0.6.2)\n",
      "Requirement already satisfied: traitlets>=5 in /opt/software/lib/python3.10/site-packages (from ipython->ipython-sql) (5.13.0)\n",
      "Requirement already satisfied: exceptiongroup in /opt/software/lib/python3.10/site-packages (from ipython->ipython-sql) (1.2.0)\n",
      "Requirement already satisfied: pexpect>4.3 in /opt/software/lib/python3.10/site-packages (from ipython->ipython-sql) (4.8.0)\n",
      "Requirement already satisfied: wcwidth in /opt/software/lib/python3.10/site-packages (from prettytable->ipython-sql) (0.2.12)\n",
      "Requirement already satisfied: parso<0.9.0,>=0.8.3 in /opt/software/lib/python3.10/site-packages (from jedi>=0.16->ipython->ipython-sql) (0.8.3)\n",
      "Requirement already satisfied: ptyprocess>=0.5 in /opt/software/lib/python3.10/site-packages (from pexpect>4.3->ipython->ipython-sql) (0.7.0)\n",
      "Requirement already satisfied: executing>=1.2.0 in /opt/software/lib/python3.10/site-packages (from stack-data->ipython->ipython-sql) (2.0.1)\n",
      "Requirement already satisfied: asttokens>=2.1.0 in /opt/software/lib/python3.10/site-packages (from stack-data->ipython->ipython-sql) (2.4.1)\n",
      "Requirement already satisfied: pure-eval in /opt/software/lib/python3.10/site-packages (from stack-data->ipython->ipython-sql) (0.2.2)\n",
      "Installing collected packages: sqlparse, prettytable, ipython-sql\n",
      "Successfully installed ipython-sql-0.5.0 prettytable-3.9.0 sqlparse-0.4.4\n"
     ]
    }
   ],
   "source": [
    "# install a SQL kernel.\n",
    "!pip install ipython-sql"
   ]
  },
  {
   "cell_type": "code",
   "execution_count": 2,
   "id": "b95cf09a-0241-494b-8b1b-618a2cd54de1",
   "metadata": {
    "tags": []
   },
   "outputs": [],
   "source": [
    "# Load SQL extension\n",
    "%load_ext sql"
   ]
  },
  {
   "cell_type": "markdown",
   "id": "0fa707cd-1e18-43cc-9bbf-e807c17fc295",
   "metadata": {},
   "source": [
    "### 1. Create database engine and load into SQLite database table"
   ]
  },
  {
   "cell_type": "code",
   "execution_count": 5,
   "id": "783bcd43-58db-4e42-b3b5-3dd4cb973a16",
   "metadata": {
    "tags": []
   },
   "outputs": [],
   "source": [
    "import pandas as pd\n",
    "from sqlalchemy import create_engine\n",
    "\n",
    "# List of CSV files to process\n",
    "csv_files = ['actors.csv', 'customers.csv', 'actsin.csv', 'renting.csv', 'movies.csv']\n",
    "\n",
    "# Create an SQLite database engine\n",
    "engine = create_engine('sqlite:///movies_data.db', echo=False)\n",
    "\n",
    "# Iterate over the CSV files and load them into the database\n",
    "for csv_file in csv_files:\n",
    "    # Read the CSV file into a DataFrame\n",
    "    df = pd.read_csv(\"Dataset/\" + csv_file)\n",
    "    \n",
    "    # Extract the table name from the file name (removing the extension)\n",
    "    table_name = csv_file.split('.')[0]\n",
    "    \n",
    "    # Write the DataFrame to an SQLite database table\n",
    "    df.to_sql(table_name, con=engine, index=False, if_exists='replace')\n",
    "\n"
   ]
  },
  {
   "cell_type": "code",
   "execution_count": 7,
   "id": "c17e2960-79dd-4658-88a4-f7fe4779d2c0",
   "metadata": {
    "tags": []
   },
   "outputs": [
    {
     "name": "stdout",
     "output_type": "stream",
     "text": [
      "Done.\n"
     ]
    },
    {
     "data": {
      "text/html": [
       "<table>\n",
       "    <thead>\n",
       "        <tr>\n",
       "            <th>actor_id</th>\n",
       "            <th>name</th>\n",
       "            <th>year_of_birth</th>\n",
       "            <th>nationality</th>\n",
       "            <th>gender</th>\n",
       "        </tr>\n",
       "    </thead>\n",
       "    <tbody>\n",
       "        <tr>\n",
       "            <td>1</td>\n",
       "            <td>Abbie Cornish</td>\n",
       "            <td>1982.0</td>\n",
       "            <td>Australia</td>\n",
       "            <td>female</td>\n",
       "        </tr>\n",
       "        <tr>\n",
       "            <td>2</td>\n",
       "            <td>Adam Sandler</td>\n",
       "            <td>1966.0</td>\n",
       "            <td>USA</td>\n",
       "            <td>male</td>\n",
       "        </tr>\n",
       "        <tr>\n",
       "            <td>3</td>\n",
       "            <td>Al Pacino</td>\n",
       "            <td>1940.0</td>\n",
       "            <td>USA</td>\n",
       "            <td>male</td>\n",
       "        </tr>\n",
       "        <tr>\n",
       "            <td>4</td>\n",
       "            <td>Amy Adams</td>\n",
       "            <td>1974.0</td>\n",
       "            <td>USA</td>\n",
       "            <td>female</td>\n",
       "        </tr>\n",
       "        <tr>\n",
       "            <td>5</td>\n",
       "            <td>Andrea Riseborough</td>\n",
       "            <td>1981.0</td>\n",
       "            <td>British</td>\n",
       "            <td>female</td>\n",
       "        </tr>\n",
       "    </tbody>\n",
       "</table>"
      ],
      "text/plain": [
       "[(1, 'Abbie Cornish', 1982.0, 'Australia', 'female'),\n",
       " (2, 'Adam Sandler', 1966.0, 'USA', 'male'),\n",
       " (3, 'Al Pacino', 1940.0, 'USA', 'male'),\n",
       " (4, 'Amy Adams', 1974.0, 'USA', 'female'),\n",
       " (5, 'Andrea Riseborough', 1981.0, 'British', 'female')]"
      ]
     },
     "execution_count": 7,
     "metadata": {},
     "output_type": "execute_result"
    }
   ],
   "source": [
    "%%sql sqlite:///movies_data.db\n",
    "\n",
    "-- Example SQL query\n",
    "SELECT * FROM actors LIMIT 5;"
   ]
  },
  {
   "cell_type": "code",
   "execution_count": null,
   "id": "59420ce2-0d8f-468c-b3ce-0c0844487c11",
   "metadata": {},
   "outputs": [],
   "source": []
  }
 ],
 "metadata": {
  "kernelspec": {
   "display_name": "Python 3",
   "language": "python",
   "name": "python3"
  },
  "language_info": {
   "codemirror_mode": {
    "name": "ipython",
    "version": 3
   },
   "file_extension": ".py",
   "mimetype": "text/x-python",
   "name": "python",
   "nbconvert_exporter": "python",
   "pygments_lexer": "ipython3",
   "version": "3.10.12"
  }
 },
 "nbformat": 4,
 "nbformat_minor": 5
}
